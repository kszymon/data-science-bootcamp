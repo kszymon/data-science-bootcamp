{
  "nbformat": 4,
  "nbformat_minor": 0,
  "metadata": {
    "colab": {
      "provenance": [],
      "authorship_tag": "ABX9TyO/hDsdyCHrPH2UO82JCAep",
      "include_colab_link": true
    },
    "kernelspec": {
      "name": "python3",
      "display_name": "Python 3"
    },
    "language_info": {
      "name": "python"
    }
  },
  "cells": [
    {
      "cell_type": "markdown",
      "metadata": {
        "id": "view-in-github",
        "colab_type": "text"
      },
      "source": [
        "<a href=\"https://colab.research.google.com/github/kszymon/data-science-bootcamp/blob/main/01_wprowadzenie/02_algebra_liniowa.ipynb\" target=\"_parent\"><img src=\"https://colab.research.google.com/assets/colab-badge.svg\" alt=\"Open In Colab\"/></a>"
      ]
    },
    {
      "cell_type": "markdown",
      "source": [
        "### NumPy\n",
        ">Strona biblioteki: [https://numpy.org/](https://numpy.org/)  \n",
        ">Dokumentacja: [https://numpy.org/doc/](https://numpy.org/doc/)  \n",
        ">\n",
        ">Podstawowa biblioteka do obliczeń numerycznych w języku Python.\n",
        ">\n",
        ">Aby zainstalować bibliotekę NumPy, użyj polecenia poniżej:\n",
        "```\n",
        "pip install numpy\n",
        "```\n",
        "\n",
        "### Spis treści:\n",
        "1. [Norma wektora, długość wektora w $R^{2}$](#a1)\n",
        "2. [Norma euklidesowa $R^{n}$](#a2)\n",
        "3. [Odległóść dwóch punktów na płaszczyźnie](#a3)\n",
        "4. [Odległóść dwóch punktów w przestrzeni $R^{n}$](#a4)\n",
        "5. [Mnożenie macierzy](#a5)\n",
        "6. [Wyznacznik macierzy](#a6)\n",
        "7. [Ślad macierzy](#a7)\n",
        "8. [Macierz jednostkowa](#a8)\n",
        "9. [ Macierz odwrotna](#a9)\n",
        "10. [Macierz transponowana](#a10)\n",
        "11. [Rozwiązywanie układów równań](#a11)\n"
      ],
      "metadata": {
        "id": "ASvgsIohUJlX"
      }
    },
    {
      "cell_type": "code",
      "source": [
        "import numpy as np\n",
        "np.__version__"
      ],
      "metadata": {
        "colab": {
          "base_uri": "https://localhost:8080/",
          "height": 36
        },
        "id": "SObQi89PWcOp",
        "outputId": "e11fa786-f375-465b-c8e3-ee200d4ad373"
      },
      "execution_count": 2,
      "outputs": [
        {
          "output_type": "execute_result",
          "data": {
            "text/plain": [
              "'1.25.2'"
            ],
            "application/vnd.google.colaboratory.intrinsic+json": {
              "type": "string"
            }
          },
          "metadata": {},
          "execution_count": 2
        }
      ]
    },
    {
      "cell_type": "markdown",
      "source": [
        "### <a name='a1'></a> Norma wektora, długość wektora w $R^{2}$\n",
        "\n",
        "${\\mathbf  {v}} = [v_{1}, v_{2}]$   \n",
        "$\\left\\|{\\mathbf  {v}}\\right\\|={\\sqrt  {v_{1}^{2}+v_{2}^{2}}}$"
      ],
      "metadata": {
        "id": "ESnDk6xvWKvq"
      }
    },
    {
      "cell_type": "code",
      "source": [
        "v1 = np.array([-1,4])\n",
        "v1"
      ],
      "metadata": {
        "colab": {
          "base_uri": "https://localhost:8080/"
        },
        "id": "wM_QLX9Zcltl",
        "outputId": "4d032bdb-16c2-4e08-8736-ec7a07baa2c1"
      },
      "execution_count": 5,
      "outputs": [
        {
          "output_type": "execute_result",
          "data": {
            "text/plain": [
              "array([-1,  4])"
            ]
          },
          "metadata": {},
          "execution_count": 5
        }
      ]
    },
    {
      "cell_type": "code",
      "source": [
        "np.linalg.norm(v1)"
      ],
      "metadata": {
        "colab": {
          "base_uri": "https://localhost:8080/"
        },
        "id": "an36wFNscxYd",
        "outputId": "d96ec7f5-1e51-4580-e4a1-d2568ede2a61"
      },
      "execution_count": 6,
      "outputs": [
        {
          "output_type": "execute_result",
          "data": {
            "text/plain": [
              "4.123105625617661"
            ]
          },
          "metadata": {},
          "execution_count": 6
        }
      ]
    },
    {
      "cell_type": "markdown",
      "source": [
        "### <a name='a2'></a> Norma euklidesowa w $R^{n}$\n",
        "\n",
        "$\\left\\|{\\mathbf  {v}}\\right\\|={\\sqrt  {v_{1}^{2}+v_{2}^{2}+\\cdots +v_{n}^{2}}}$"
      ],
      "metadata": {
        "id": "2v1JmwaTWOBZ"
      }
    },
    {
      "cell_type": "code",
      "source": [
        "v2 = np.array([-10,10,13])\n",
        "np.linalg.norm(v2)"
      ],
      "metadata": {
        "colab": {
          "base_uri": "https://localhost:8080/"
        },
        "id": "GY6eWCz8dF1p",
        "outputId": "3df07014-8456-4333-c0a2-08bd5886b207"
      },
      "execution_count": 11,
      "outputs": [
        {
          "output_type": "execute_result",
          "data": {
            "text/plain": [
              "19.209372712298546"
            ]
          },
          "metadata": {},
          "execution_count": 11
        }
      ]
    },
    {
      "cell_type": "markdown",
      "source": [
        "### <a name='a3'></a> Odległóść dwóch punktów na płaszczyźnie"
      ],
      "metadata": {
        "id": "0JP_F66iiOiZ"
      }
    },
    {
      "cell_type": "code",
      "source": [
        "p = np.array([3,0])\n",
        "q = np.array([0,4])\n",
        "\n",
        "np.linalg.norm(p-q)"
      ],
      "metadata": {
        "colab": {
          "base_uri": "https://localhost:8080/"
        },
        "id": "D4cNyIxajuD2",
        "outputId": "3ac53c61-fc52-42f8-a474-baf413f80d59"
      },
      "execution_count": 12,
      "outputs": [
        {
          "output_type": "execute_result",
          "data": {
            "text/plain": [
              "5.0"
            ]
          },
          "metadata": {},
          "execution_count": 12
        }
      ]
    },
    {
      "cell_type": "markdown",
      "source": [
        "### <a name='a3'></a> Odległość dwóch punktów na płaszczyźnie"
      ],
      "metadata": {
        "id": "whCKr6PXWONS"
      }
    },
    {
      "cell_type": "markdown",
      "source": [
        " \\begin{aligned}d(\\mathbf {p} ,\\mathbf {q} )=d(\\mathbf {q} ,\\mathbf {p} )&={\\sqrt {(q_{1}-p_{1})^{2}+(q_{2}-p_{2})^{2}+\\cdots +(q_{n}-p_{n})^{2}}}\\\\[8pt]&={\\sqrt {\\sum _{i=1}^{n}(q_{i}-p_{i})^{2}}}\\end{aligned}\n"
      ],
      "metadata": {
        "id": "JqmUqpMyWOUY"
      }
    },
    {
      "cell_type": "code",
      "source": [
        "p = np.array([3,0,1])\n",
        "q = np.array([0,4,2])\n",
        "\n",
        "np.linalg.norm(p-q)"
      ],
      "metadata": {
        "colab": {
          "base_uri": "https://localhost:8080/"
        },
        "id": "UQVTp3ebkKce",
        "outputId": "fabdb3c6-9360-42c2-c9d4-179f87da81e6"
      },
      "execution_count": 13,
      "outputs": [
        {
          "output_type": "execute_result",
          "data": {
            "text/plain": [
              "5.0990195135927845"
            ]
          },
          "metadata": {},
          "execution_count": 13
        }
      ]
    },
    {
      "cell_type": "markdown",
      "source": [
        "### <a name='a5'></a> Mnożenie macierzy\n",
        "\n",
        "\n",
        "\n",
        "$${A} ={\\begin{bmatrix}a_{11}&a_{12}&\\cdots &a_{1n}\\\\a_{21}&a_{22}&\\cdots &a_{2n}\\\\\\vdots &\\vdots &\\ddots &\\vdots \\\\a_{m1}&a_{m2}&\\cdots &a_{mn}\\\\\\end{bmatrix}}$$\n",
        "A - macierz wymairu $m\\ x\\ n$\n",
        "\n",
        "$$ {B} ={\\begin{bmatrix}b_{11}&b_{12}&\\cdots &b_{1p}\\\\b_{21}&b_{22}&\\cdots &b_{2p}\\\\\\vdots &\\vdots &\\ddots &\\vdots \\\\b_{n1}&b_{n2}&\\cdots &b_{np}\\\\\\end{bmatrix}}$$\n",
        "B - macierz wymairu $n\\ x\\ p$\n",
        "\n",
        "$$C = AB$$\n",
        "C - macierz wymiaru $m\\ x\\ p$  \n",
        "Aby móc pomnożyć dwie macierze liczba liczba kolumn w lewej macierzy musi zgadzać się z liczbą wierszy prawej macierzy.\n",
        "\n",
        "Mnożenie macierzy nie jest przemienne! Tzn. $$AB \\neq BA$$"
      ],
      "metadata": {
        "id": "XASAEZyebs81"
      }
    },
    {
      "cell_type": "markdown",
      "source": [
        "### Przykład 1\n",
        "$ X = \\begin{bmatrix}5&3\\\\3&9\\end{bmatrix}$, $ Y= \\begin{bmatrix}1\\\\-1\\end{bmatrix} $  \n",
        "$X$ macierz 2x2  \n",
        "$Y$ macierz 2x1\n",
        "$$Z = X \\cdot Y = \\begin{bmatrix}5&3\\\\3&9\\end{bmatrix} \\cdot \\begin{bmatrix}1\\\\-1\\end{bmatrix} = \\begin{bmatrix}2\\\\-6\\end{bmatrix}$$\n",
        "$Z$ macierz 2x1\n"
      ],
      "metadata": {
        "id": "8Rtq1WmrlN5C"
      }
    },
    {
      "cell_type": "code",
      "source": [
        "X = np.array([[5,3], [3,9]])\n",
        "Y = np.array([[1], [-1]])\n",
        "print(X, '\\n')\n",
        "print(Y)"
      ],
      "metadata": {
        "colab": {
          "base_uri": "https://localhost:8080/"
        },
        "id": "OKdhmY-_lOeC",
        "outputId": "5f7bf023-31cf-4219-9064-3417373ee6cf"
      },
      "execution_count": 16,
      "outputs": [
        {
          "output_type": "stream",
          "name": "stdout",
          "text": [
            "[[5 3]\n",
            " [3 9]] \n",
            "\n",
            "[[ 1]\n",
            " [-1]]\n"
          ]
        }
      ]
    },
    {
      "cell_type": "code",
      "source": [
        "Z = np.dot(X,Y)"
      ],
      "metadata": {
        "id": "Da_aUZxIl5we"
      },
      "execution_count": 17,
      "outputs": []
    },
    {
      "cell_type": "code",
      "source": [
        "Z.shape"
      ],
      "metadata": {
        "colab": {
          "base_uri": "https://localhost:8080/"
        },
        "id": "Vm-bG-CYnpx6",
        "outputId": "17fe9402-2bb2-47f6-adc1-5342eaaf1077"
      },
      "execution_count": 19,
      "outputs": [
        {
          "output_type": "execute_result",
          "data": {
            "text/plain": [
              "(2, 1)"
            ]
          },
          "metadata": {},
          "execution_count": 19
        }
      ]
    },
    {
      "cell_type": "markdown",
      "source": [
        "### Przykład 2\n",
        "$X = \\begin{bmatrix}2&-1&3\\\\3&1&0\\end{bmatrix}$, $Y = \\begin{bmatrix}2&1&-1\\\\0&-1&2\\\\3&2&0\\end{bmatrix}$\n",
        "\n",
        "$X$ macierz 2x3  \n",
        "$Y$ macierz 3x3\n",
        "$$Z = X \\cdot Y =  \\begin{bmatrix}2&-1&3\\\\3&1&0\\end{bmatrix} \\cdot \\begin{bmatrix}2&1&-1\\\\0&-1&2\\\\3&2&0\\end{bmatrix} = \\begin{bmatrix}13&9&-4\\\\6&2&-1\\end{bmatrix}$$\n",
        "$Z$ macierz 2x3"
      ],
      "metadata": {
        "id": "uyAQozQMoFFh"
      }
    },
    {
      "cell_type": "code",
      "source": [
        "X  = np.array([[2,-1,3],\n",
        "               [3,1,0]])\n",
        "Y = np.array([[2,1,-1],\n",
        "              [0,-1,2],\n",
        "              [3,2,0]])\n",
        "print(X, '\\n')\n",
        "print(Y)"
      ],
      "metadata": {
        "colab": {
          "base_uri": "https://localhost:8080/"
        },
        "id": "knDpVMnMoFeF",
        "outputId": "e5bafe10-0487-4739-ed2a-2899012159b3"
      },
      "execution_count": 20,
      "outputs": [
        {
          "output_type": "stream",
          "name": "stdout",
          "text": [
            "[[ 2 -1  3]\n",
            " [ 3  1  0]] \n",
            "\n",
            "[[ 2  1 -1]\n",
            " [ 0 -1  2]\n",
            " [ 3  2  0]]\n"
          ]
        }
      ]
    },
    {
      "cell_type": "code",
      "source": [
        "Z = np.dot(X,Y)\n",
        "Z"
      ],
      "metadata": {
        "colab": {
          "base_uri": "https://localhost:8080/"
        },
        "id": "nbPVCVwQpGq_",
        "outputId": "b679fce6-6987-4d1d-b6ba-a7ae2a0864de"
      },
      "execution_count": 23,
      "outputs": [
        {
          "output_type": "execute_result",
          "data": {
            "text/plain": [
              "array([[13,  9, -4],\n",
              "       [ 6,  2, -1]])"
            ]
          },
          "metadata": {},
          "execution_count": 23
        }
      ]
    },
    {
      "cell_type": "markdown",
      "source": [
        "### <a name='a6'></a> Wyznacznik macierzy\n",
        "\n",
        "$${\\displaystyle A={\\begin{bmatrix}a_{11}&a_{12}&\\dots &a_{1n}\\\\a_{21}&a_{22}&\\dots &a_{2n}\\\\\\vdots &\\vdots &\\ddots &\\vdots \\\\a_{n1}&a_{n2}&\\dots &a_{nn}\\end{bmatrix}}}$$\n",
        "$A$ - macierz wymiaru nxn\n",
        "\n",
        "#### Oznaczenia:\n",
        "\n",
        "${\\displaystyle |A|=\\left|{\\begin{array}{c}a_{11}&a_{12}&\\dots &a_{1n}\\\\a_{21}&a_{22}&\\dots &a_{2n}\\\\\\vdots &\\vdots &\\ddots &\\vdots \\\\a_{n1}&a_{n2}&\\dots &a_{nn}\\end{array}}\\right|} $  lub  $ {\\displaystyle \\det A=\\det {\\begin{bmatrix}a_{11}&a_{12}&\\dots &a_{1n}\\\\a_{21}&a_{22}&\\dots &a_{2n}\\\\\\vdots &\\vdots &\\ddots &\\vdots \\\\a_{n1}&a_{n2}&\\dots &a_{nn}\\end{bmatrix}}}$\n",
        "\n",
        "#### Przykład:\n",
        "${\\displaystyle \\det A={\\begin{vmatrix}a_{11}&a_{12}\\\\a_{21}&a_{22}\\end{vmatrix}}=a_{11}a_{22}-a_{12}a_{21}}$\n",
        "\n",
        "${\\displaystyle \\det A={\\begin{vmatrix}a_{11}&a_{12}&a_{13}\\\\a_{21}&a_{22}&a_{23}\\\\a_{31}&a_{32}&a_{33}\\end{vmatrix}}=a_{11}a_{22}a_{33}+a_{21}a_{32}a_{13}+a_{31}a_{12}a_{23}-a_{21}a_{12}a_{33}-a_{11}a_{32}a_{23}-a_{31}a_{22}a_{13}}$\n",
        "\n",
        "${\\displaystyle \\det A={\\begin{vmatrix}2&4\\\\-1&3\\end{vmatrix}}=2\\cdot3-4\\cdot(-1)} = 6 + 4 = 10 $"
      ],
      "metadata": {
        "id": "NVday5N9pxYr"
      }
    },
    {
      "cell_type": "code",
      "source": [
        "A = np.array([[2,4], [-1,3]])\n",
        "round(np.linalg.det(A))"
      ],
      "metadata": {
        "colab": {
          "base_uri": "https://localhost:8080/"
        },
        "id": "w8OKEU49px0G",
        "outputId": "8ed2dcfe-e0b1-4e65-a762-66c5b21665ea"
      },
      "execution_count": 27,
      "outputs": [
        {
          "output_type": "execute_result",
          "data": {
            "text/plain": [
              "10"
            ]
          },
          "metadata": {},
          "execution_count": 27
        }
      ]
    },
    {
      "cell_type": "markdown",
      "source": [
        "### <a name='a7'></a> Ślad macierzy\n",
        "\n",
        "$${\\displaystyle A={\\begin{bmatrix}a_{11}&a_{12}&\\dots &a_{1n}\\\\a_{21}&a_{22}&\\dots &a_{2n}\\\\\\vdots &\\vdots &\\ddots &\\vdots \\\\a_{n1}&a_{n2}&\\dots &a_{nn}\\end{bmatrix}}}$$\n",
        "$A$ - macierz wymiaru nxn\n",
        "\n",
        "${\\displaystyle \\operatorname {tr} (A)=\\sum _{i=1}^{n}a_{ii}=a_{11}+a_{22}+\\dots +a_{nn}}$\n",
        "\n",
        "#### Przykład:\n",
        "$A = \\begin{bmatrix}2&4\\\\-1&3\\end{bmatrix}$\n",
        "\n",
        "${\\displaystyle \\operatorname {tr} (A)=\\sum _{i=1}^{2}a_{ii}=a_{11}+a_{22} = 2 + 3 = 5}$"
      ],
      "metadata": {
        "id": "1ghGl2H0xBo0"
      }
    },
    {
      "cell_type": "code",
      "source": [
        "A = np.array([[2,4], [-1,3]])\n",
        "np.trace(A)"
      ],
      "metadata": {
        "colab": {
          "base_uri": "https://localhost:8080/"
        },
        "id": "TaPhIvH9xCHY",
        "outputId": "1c1dcf64-46e5-44b3-c8da-f0dfb76ca3ee"
      },
      "execution_count": 28,
      "outputs": [
        {
          "output_type": "execute_result",
          "data": {
            "text/plain": [
              "5"
            ]
          },
          "metadata": {},
          "execution_count": 28
        }
      ]
    },
    {
      "cell_type": "markdown",
      "source": [
        "###  <a name='a8'></a>  Macierz jednostkowa\n",
        "\n",
        "Macierz jednostkowa - macierz kwadratowa, której współczynniki podane są wzorem:\n",
        "$${\\displaystyle a_{ij}={\\begin{cases}1\\quad {\\text{dla}}\\quad i=j\\\\[2pt]0\\quad {\\text{dla}}\\quad i\\neq j\\end{cases}}}$$\n",
        "\n",
        "#### Przykłady\n",
        "${\\displaystyle I_{1}={\\begin{bmatrix}1\\end{bmatrix}},\\;I_{2}={\\begin{bmatrix}1&0\\\\0&1\\end{bmatrix}},\\;I_{3}={\\begin{bmatrix}1&0&0\\\\0&1&0\\\\0&0&1\\end{bmatrix}}}$"
      ],
      "metadata": {
        "id": "LWqyMeCl3erf"
      }
    },
    {
      "cell_type": "code",
      "source": [
        "np.eye(5, dtype='int')"
      ],
      "metadata": {
        "colab": {
          "base_uri": "https://localhost:8080/"
        },
        "id": "RwWLHVb23fLX",
        "outputId": "1f3485f4-bfd1-47ba-f0d1-eee4a8b1c903"
      },
      "execution_count": 29,
      "outputs": [
        {
          "output_type": "execute_result",
          "data": {
            "text/plain": [
              "array([[1, 0, 0, 0, 0],\n",
              "       [0, 1, 0, 0, 0],\n",
              "       [0, 0, 1, 0, 0],\n",
              "       [0, 0, 0, 1, 0],\n",
              "       [0, 0, 0, 0, 1]])"
            ]
          },
          "metadata": {},
          "execution_count": 29
        }
      ]
    },
    {
      "cell_type": "code",
      "source": [
        "np.eye(3)"
      ],
      "metadata": {
        "colab": {
          "base_uri": "https://localhost:8080/"
        },
        "id": "Ag6ZMcez3tI3",
        "outputId": "80dc50e4-653c-4c3c-bb4a-ee653f757291"
      },
      "execution_count": 30,
      "outputs": [
        {
          "output_type": "execute_result",
          "data": {
            "text/plain": [
              "array([[1., 0., 0.],\n",
              "       [0., 1., 0.],\n",
              "       [0., 0., 1.]])"
            ]
          },
          "metadata": {},
          "execution_count": 30
        }
      ]
    },
    {
      "cell_type": "markdown",
      "source": [
        "### <a name='a9'></a>  Macierz odwrotna\n",
        "\n",
        "$A$ - macierz kwadratowa stopnia $n$. Macierz $A$ posiada macierz odwrotną, gdy istnieje macierz $B$, taka, że\n",
        "$$AB = BA = I$$\n",
        "\n",
        "$A = \\begin{bmatrix}2&4\\\\-1&3\\end{bmatrix}$"
      ],
      "metadata": {
        "id": "VueL8Haa34Hn"
      }
    },
    {
      "cell_type": "code",
      "source": [
        "B = np.linalg.inv(A)\n",
        "B"
      ],
      "metadata": {
        "colab": {
          "base_uri": "https://localhost:8080/"
        },
        "id": "kId-Jyz434nV",
        "outputId": "79b2899b-eadb-4fb1-bf1c-d00feba9a43b"
      },
      "execution_count": 32,
      "outputs": [
        {
          "output_type": "execute_result",
          "data": {
            "text/plain": [
              "array([[ 0.3, -0.4],\n",
              "       [ 0.1,  0.2]])"
            ]
          },
          "metadata": {},
          "execution_count": 32
        }
      ]
    },
    {
      "cell_type": "code",
      "source": [
        "np.set_printoptions(precision=4, suppress=True)\n",
        "\n",
        "np.dot(A,B)"
      ],
      "metadata": {
        "colab": {
          "base_uri": "https://localhost:8080/"
        },
        "id": "XM2y6Mq94dWJ",
        "outputId": "f9a9d9f7-4e96-4f5a-a619-d0ebefc7b08b"
      },
      "execution_count": 37,
      "outputs": [
        {
          "output_type": "execute_result",
          "data": {
            "text/plain": [
              "array([[1., 0.],\n",
              "       [0., 1.]])"
            ]
          },
          "metadata": {},
          "execution_count": 37
        }
      ]
    },
    {
      "cell_type": "code",
      "source": [
        "np.dot(B,A)"
      ],
      "metadata": {
        "colab": {
          "base_uri": "https://localhost:8080/"
        },
        "id": "lKJH_Ww14r6K",
        "outputId": "2acf1548-3425-48b7-df29-963285ea2a68"
      },
      "execution_count": 38,
      "outputs": [
        {
          "output_type": "execute_result",
          "data": {
            "text/plain": [
              "array([[ 1., -0.],\n",
              "       [ 0.,  1.]])"
            ]
          },
          "metadata": {},
          "execution_count": 38
        }
      ]
    },
    {
      "cell_type": "markdown",
      "source": [
        "### <a name='a10'></a> Macierz transponowana\n",
        "\n",
        "Zamiana wierszy na kolumny i kolumny na wiersze.\n",
        "\n",
        "#### Przykład 1:\n",
        "\n",
        "$A = \\begin{bmatrix}2&4\\\\-1&3\\end{bmatrix}$,\n",
        "$A^{T} = \\begin{bmatrix}2&-1\\\\4&3\\end{bmatrix}$\n",
        "\n",
        "#### Przykład 2:\n",
        "$A = \\begin{bmatrix}2&1&-1\\\\0&-1&2\\end{bmatrix}$,\n",
        "$A^{T} = \\begin{bmatrix}2&0\\\\1&-1\\\\-1&2\\end{bmatrix}$"
      ],
      "metadata": {
        "id": "VMzRL5255Nzs"
      }
    },
    {
      "cell_type": "code",
      "source": [
        "np.transpose(A)"
      ],
      "metadata": {
        "colab": {
          "base_uri": "https://localhost:8080/"
        },
        "id": "gPTETc7j5cHE",
        "outputId": "c9597347-8b80-43d2-fb32-cabed3b1b61a"
      },
      "execution_count": 39,
      "outputs": [
        {
          "output_type": "execute_result",
          "data": {
            "text/plain": [
              "array([[ 2, -1],\n",
              "       [ 4,  3]])"
            ]
          },
          "metadata": {},
          "execution_count": 39
        }
      ]
    },
    {
      "cell_type": "code",
      "source": [
        "A.T"
      ],
      "metadata": {
        "colab": {
          "base_uri": "https://localhost:8080/"
        },
        "id": "YcRYkKj05iL8",
        "outputId": "57f85c1e-2e41-43e2-a448-fec56410e581"
      },
      "execution_count": 40,
      "outputs": [
        {
          "output_type": "execute_result",
          "data": {
            "text/plain": [
              "array([[ 2, -1],\n",
              "       [ 4,  3]])"
            ]
          },
          "metadata": {},
          "execution_count": 40
        }
      ]
    },
    {
      "cell_type": "markdown",
      "source": [
        "### <a name='a11'></a> Rozwiązywanie układów równań\n",
        "Rozważmy układ równań $U$:  \n",
        "$${\\displaystyle \\mathrm {U} \\colon {\\begin{cases}{\\begin{matrix}a_{11}x_{1}&+&a_{12}x_{2}&+&\\dots &+&a_{1n}x_{n}&=b_{1},\\\\a_{21}x_{1}&+&a_{22}x_{2}&+&\\dots &+&a_{2n}x_{n}&=b_{2},\\\\\\vdots &&\\vdots &&\\ddots &&\\vdots &\\vdots \\\\a_{m1}x_{1}&+&a_{m2}x_{2}&+&\\dots &+&a_{mn}x_{n}&=b_{m}.\\end{matrix}}\\end{cases}}.}$$\n",
        "\n",
        "Wykorzystując macierze możemy to przedstawić następująco:\n",
        "\n",
        "$${\\begin{bmatrix}a_{11}&a_{12}&\\dots &a_{1n}\\\\a_{21}&a_{22}&\\dots &a_{2n}\\\\\\vdots &\\vdots &\\ddots &\\vdots \\\\a_{m1}&a_{m2}&\\dots &a_{mn}\\end{bmatrix}}{\\begin{bmatrix}x_{1}\\\\x_{2}\\\\\\vdots \\\\x_{n}\\end{bmatrix}}={\\begin{bmatrix}b_{1}\\\\b_{2}\\\\\\vdots \\\\b_{m}\\end{bmatrix}}$$\n",
        "I w zapisie skrótowym:\n",
        "$$\\mathbf {AX} =\\mathbf {B}$$\n",
        "\n",
        "Gdzie:  \n",
        "$A = {\\begin{bmatrix}a_{11}&a_{12}&\\dots &a_{1n}\\\\a_{21}&a_{22}&\\dots &a_{2n}\\\\\\vdots &\\vdots &\\ddots &\\vdots \\\\a_{m1}&a_{m2}&\\dots &a_{mn}\\end{bmatrix}}$ - macierz współczynników\n",
        "\n",
        "${\\displaystyle \\mathbf {B} =[b_{1},b_{2},\\dots ,b_{m}]} $ - wektor wyrazów wolnych  \n",
        "${\\mathbf  X}=[x_{1},x_{2},\\dots ,x_{n}] $ - wektor niewiadomych\n",
        "\n",
        "Jeśli macierz układu $A$ jest macierzą kwadratową, to oznaczoność układu jest równoważna jej odwracalności, tzn.\n",
        "$$\\mathbf {AX} =\\mathbf {B}$$\n",
        "$${\\displaystyle \\mathbf {A} ^{-1}\\mathbf {AX} =\\mathbf {A} ^{-1}\\mathbf {B}} $$\n",
        "$$\\mathbf {X} =\\mathbf {A} ^{-1}\\mathbf {B} .$$\n",
        "\n",
        "#### Przykład:\n",
        "Rozważmy układ równań:\n",
        "$$\\begin{cases}2x + 4y = 10 \\\\ x - y = -1 \\end{cases}$$  \n",
        "Rozwiązaniem jest para liczb:\n",
        "$$\\begin{cases}x = 1 \\\\ y = 2 \\end{cases}$$  "
      ],
      "metadata": {
        "id": "hQk7YrEW5vYZ"
      }
    },
    {
      "cell_type": "code",
      "source": [
        "A = np.array([[2,4],[1,-1]])\n",
        "print(A)"
      ],
      "metadata": {
        "colab": {
          "base_uri": "https://localhost:8080/"
        },
        "id": "UtY8Kj6Z5wJL",
        "outputId": "77e97374-a8f8-49c0-9e42-9ebd59176c41"
      },
      "execution_count": 41,
      "outputs": [
        {
          "output_type": "stream",
          "name": "stdout",
          "text": [
            "[[ 2  4]\n",
            " [ 1 -1]]\n"
          ]
        }
      ]
    },
    {
      "cell_type": "code",
      "source": [
        "B = np.array([[10],[-1]])\n",
        "print(B)"
      ],
      "metadata": {
        "colab": {
          "base_uri": "https://localhost:8080/"
        },
        "id": "R96JQ0Ru7OfT",
        "outputId": "82d4c13e-78f1-4c3d-a756-c89737aa6b84"
      },
      "execution_count": 42,
      "outputs": [
        {
          "output_type": "stream",
          "name": "stdout",
          "text": [
            "[[10]\n",
            " [-1]]\n"
          ]
        }
      ]
    },
    {
      "cell_type": "code",
      "source": [
        "A_inv = np.linalg.inv(A)\n",
        "X = np.dot(A_inv, B)\n",
        "X"
      ],
      "metadata": {
        "colab": {
          "base_uri": "https://localhost:8080/"
        },
        "id": "9fIfLck17Va2",
        "outputId": "b145f172-6292-408a-c708-5340ba050588"
      },
      "execution_count": 43,
      "outputs": [
        {
          "output_type": "execute_result",
          "data": {
            "text/plain": [
              "array([[1.],\n",
              "       [2.]])"
            ]
          },
          "metadata": {},
          "execution_count": 43
        }
      ]
    },
    {
      "cell_type": "code",
      "source": [
        "X.shape"
      ],
      "metadata": {
        "colab": {
          "base_uri": "https://localhost:8080/"
        },
        "id": "u3n02PyN7nNK",
        "outputId": "7c58b39a-7f90-4c69-ab9c-e4868b703a12"
      },
      "execution_count": 44,
      "outputs": [
        {
          "output_type": "execute_result",
          "data": {
            "text/plain": [
              "(2, 1)"
            ]
          },
          "metadata": {},
          "execution_count": 44
        }
      ]
    }
  ]
}