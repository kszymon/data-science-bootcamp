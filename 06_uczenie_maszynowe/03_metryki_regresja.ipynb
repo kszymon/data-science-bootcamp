{
  "nbformat": 4,
  "nbformat_minor": 0,
  "metadata": {
    "colab": {
      "provenance": [],
      "authorship_tag": "ABX9TyMgA6GnxP6iMympWCIrqtY3",
      "include_colab_link": true
    },
    "kernelspec": {
      "name": "python3",
      "display_name": "Python 3"
    },
    "language_info": {
      "name": "python"
    }
  },
  "cells": [
    {
      "cell_type": "markdown",
      "metadata": {
        "id": "view-in-github",
        "colab_type": "text"
      },
      "source": [
        "<a href=\"https://colab.research.google.com/github/kszymon/data-science-bootcamp/blob/main/06_uczenie_maszynowe/03_metryki_regresja.ipynb\" target=\"_parent\"><img src=\"https://colab.research.google.com/assets/colab-badge.svg\" alt=\"Open In Colab\"/></a>"
      ]
    },
    {
      "cell_type": "markdown",
      "source": [
        "### scikit-learn\n",
        ">Strona biblioteki: [https://scikit-learn.org](https://scikit-learn.org)  \n",
        ">\n",
        ">Dokumentacja/User Guide: [https://scikit-learn.org/stable/user_guide.html](https://scikit-learn.org/stable/user_guide.html)\n",
        ">\n",
        ">Podstawowa biblioteka do uczenia maszynowego w języku Python.\n",
        ">\n",
        ">Aby zainstalować bibliotekę scikit-learn, użyj polecenia poniżej:\n",
        "```\n",
        "pip install scikit-learn\n",
        "```\n",
        "\n",
        "### Metryki - Problem regresji:\n",
        "1. [Import bibliotek](#a0)\n",
        "2. [Interpretacja graficzna](#a2)\n",
        "3. [Mean Absolute Error - MAE - Średni błąd bezwzględny](#a3)\n",
        "4. [Mean Squared Error - MSE - Błąd średniokwadratowy](#a4)\n",
        "5. [Root Mean Squared Error - RMSE - Pierwiastek błędu średniokwadratowego](#a5)\n",
        "6. [Max Error - Błąd maksymalny](#a6)\n",
        "7. [R2 score - współczynnik determinacji](#a7)"
      ],
      "metadata": {
        "id": "0YXA4H1ZPcjB"
      }
    },
    {
      "cell_type": "markdown",
      "source": [
        "### <a name='a0'></a>  Import bibliotek"
      ],
      "metadata": {
        "id": "RqPAhHXWPuXe"
      }
    },
    {
      "cell_type": "code",
      "source": [
        "import numpy as np\n",
        "import pandas as pd\n",
        "import plotly.express as px\n",
        "import plotly.graph_objects as go"
      ],
      "metadata": {
        "id": "OeLwo8-aQLs5"
      },
      "execution_count": 2,
      "outputs": []
    },
    {
      "cell_type": "code",
      "source": [
        "y_true = 100 + 20*np.random.randn(50)\n",
        "y_true"
      ],
      "metadata": {
        "colab": {
          "base_uri": "https://localhost:8080/"
        },
        "id": "K01ipCIcZJqZ",
        "outputId": "4829fc79-e339-47b9-810f-bb995418c9bc"
      },
      "execution_count": 3,
      "outputs": [
        {
          "output_type": "execute_result",
          "data": {
            "text/plain": [
              "array([ 78.82623319,  84.35402804,  90.34657172,  76.93084846,\n",
              "       101.44050199, 105.61427331, 119.13462356, 121.33060623,\n",
              "       104.42164518, 136.78252341, 116.81078737, 101.23405573,\n",
              "        94.06483678,  99.07405291, 115.67783236,  73.01434732,\n",
              "       144.28706048,  74.96507053, 122.98421183, 123.09999978,\n",
              "        79.02500004, 111.16923156,  95.84394058, 124.01519347,\n",
              "        49.61020343,  70.71950485,  93.36777946, 127.43236561,\n",
              "        97.86014088,  81.37531135,  60.06378723,  74.78270946,\n",
              "        90.48934474, 114.23398526,  75.11041359, 107.64840326,\n",
              "        87.82110676,  78.94250387, 102.40400841, 104.09726922,\n",
              "       119.47712437,  78.82803208, 123.90728512,  67.88330365,\n",
              "        89.39971635,  88.00466942,  98.48856128,  74.17174399,\n",
              "        78.31485876, 119.54304148])"
            ]
          },
          "metadata": {},
          "execution_count": 3
        }
      ]
    },
    {
      "cell_type": "code",
      "source": [
        "y_pred = y_true + 10*np.random.randn(50)\n",
        "y_pred"
      ],
      "metadata": {
        "colab": {
          "base_uri": "https://localhost:8080/"
        },
        "id": "ThV8kf2bdAo4",
        "outputId": "c99b725a-552c-4e65-84be-27861bd92839"
      },
      "execution_count": 5,
      "outputs": [
        {
          "output_type": "execute_result",
          "data": {
            "text/plain": [
              "array([ 64.16966413,  92.90885255,  96.96004382,  60.03539473,\n",
              "        83.9447638 , 105.68718419, 122.56095768, 129.25558092,\n",
              "        99.26493757, 125.16492628, 126.03642615, 104.49368591,\n",
              "        94.77276014, 105.18836764, 116.19843305,  67.29232314,\n",
              "       149.04694522,  79.88097677, 121.09746635, 131.33954081,\n",
              "        74.63372937, 122.89822953,  76.74819373, 133.7393108 ,\n",
              "        40.9590869 ,  85.20415951,  99.12546701, 127.65687199,\n",
              "       113.40537383,  69.97386232,  54.20893125,  77.88162594,\n",
              "       115.69735839, 114.2254713 ,  81.80852055,  99.97116927,\n",
              "        91.57695044,  63.04689835, 121.07441164,  90.49227058,\n",
              "       105.09460815,  89.81545449, 120.62978724,  39.25553191,\n",
              "        98.02849953,  74.50639891,  86.79096344,  78.37378757,\n",
              "        64.60405969, 113.4749303 ])"
            ]
          },
          "metadata": {},
          "execution_count": 5
        }
      ]
    },
    {
      "cell_type": "code",
      "source": [
        "results = pd.DataFrame({'y_true': y_true, 'y_pred': y_pred})\n",
        "results.head()"
      ],
      "metadata": {
        "colab": {
          "base_uri": "https://localhost:8080/",
          "height": 206
        },
        "id": "BISMAyBcdYPM",
        "outputId": "28f28898-17f2-4221-ef8c-bbce0367e744"
      },
      "execution_count": 6,
      "outputs": [
        {
          "output_type": "execute_result",
          "data": {
            "text/plain": [
              "       y_true     y_pred\n",
              "0   78.826233  64.169664\n",
              "1   84.354028  92.908853\n",
              "2   90.346572  96.960044\n",
              "3   76.930848  60.035395\n",
              "4  101.440502  83.944764"
            ],
            "text/html": [
              "\n",
              "  <div id=\"df-404581a6-4e3f-4c3f-8b3a-412a7e1d487d\" class=\"colab-df-container\">\n",
              "    <div>\n",
              "<style scoped>\n",
              "    .dataframe tbody tr th:only-of-type {\n",
              "        vertical-align: middle;\n",
              "    }\n",
              "\n",
              "    .dataframe tbody tr th {\n",
              "        vertical-align: top;\n",
              "    }\n",
              "\n",
              "    .dataframe thead th {\n",
              "        text-align: right;\n",
              "    }\n",
              "</style>\n",
              "<table border=\"1\" class=\"dataframe\">\n",
              "  <thead>\n",
              "    <tr style=\"text-align: right;\">\n",
              "      <th></th>\n",
              "      <th>y_true</th>\n",
              "      <th>y_pred</th>\n",
              "    </tr>\n",
              "  </thead>\n",
              "  <tbody>\n",
              "    <tr>\n",
              "      <th>0</th>\n",
              "      <td>78.826233</td>\n",
              "      <td>64.169664</td>\n",
              "    </tr>\n",
              "    <tr>\n",
              "      <th>1</th>\n",
              "      <td>84.354028</td>\n",
              "      <td>92.908853</td>\n",
              "    </tr>\n",
              "    <tr>\n",
              "      <th>2</th>\n",
              "      <td>90.346572</td>\n",
              "      <td>96.960044</td>\n",
              "    </tr>\n",
              "    <tr>\n",
              "      <th>3</th>\n",
              "      <td>76.930848</td>\n",
              "      <td>60.035395</td>\n",
              "    </tr>\n",
              "    <tr>\n",
              "      <th>4</th>\n",
              "      <td>101.440502</td>\n",
              "      <td>83.944764</td>\n",
              "    </tr>\n",
              "  </tbody>\n",
              "</table>\n",
              "</div>\n",
              "    <div class=\"colab-df-buttons\">\n",
              "\n",
              "  <div class=\"colab-df-container\">\n",
              "    <button class=\"colab-df-convert\" onclick=\"convertToInteractive('df-404581a6-4e3f-4c3f-8b3a-412a7e1d487d')\"\n",
              "            title=\"Convert this dataframe to an interactive table.\"\n",
              "            style=\"display:none;\">\n",
              "\n",
              "  <svg xmlns=\"http://www.w3.org/2000/svg\" height=\"24px\" viewBox=\"0 -960 960 960\">\n",
              "    <path d=\"M120-120v-720h720v720H120Zm60-500h600v-160H180v160Zm220 220h160v-160H400v160Zm0 220h160v-160H400v160ZM180-400h160v-160H180v160Zm440 0h160v-160H620v160ZM180-180h160v-160H180v160Zm440 0h160v-160H620v160Z\"/>\n",
              "  </svg>\n",
              "    </button>\n",
              "\n",
              "  <style>\n",
              "    .colab-df-container {\n",
              "      display:flex;\n",
              "      gap: 12px;\n",
              "    }\n",
              "\n",
              "    .colab-df-convert {\n",
              "      background-color: #E8F0FE;\n",
              "      border: none;\n",
              "      border-radius: 50%;\n",
              "      cursor: pointer;\n",
              "      display: none;\n",
              "      fill: #1967D2;\n",
              "      height: 32px;\n",
              "      padding: 0 0 0 0;\n",
              "      width: 32px;\n",
              "    }\n",
              "\n",
              "    .colab-df-convert:hover {\n",
              "      background-color: #E2EBFA;\n",
              "      box-shadow: 0px 1px 2px rgba(60, 64, 67, 0.3), 0px 1px 3px 1px rgba(60, 64, 67, 0.15);\n",
              "      fill: #174EA6;\n",
              "    }\n",
              "\n",
              "    .colab-df-buttons div {\n",
              "      margin-bottom: 4px;\n",
              "    }\n",
              "\n",
              "    [theme=dark] .colab-df-convert {\n",
              "      background-color: #3B4455;\n",
              "      fill: #D2E3FC;\n",
              "    }\n",
              "\n",
              "    [theme=dark] .colab-df-convert:hover {\n",
              "      background-color: #434B5C;\n",
              "      box-shadow: 0px 1px 3px 1px rgba(0, 0, 0, 0.15);\n",
              "      filter: drop-shadow(0px 1px 2px rgba(0, 0, 0, 0.3));\n",
              "      fill: #FFFFFF;\n",
              "    }\n",
              "  </style>\n",
              "\n",
              "    <script>\n",
              "      const buttonEl =\n",
              "        document.querySelector('#df-404581a6-4e3f-4c3f-8b3a-412a7e1d487d button.colab-df-convert');\n",
              "      buttonEl.style.display =\n",
              "        google.colab.kernel.accessAllowed ? 'block' : 'none';\n",
              "\n",
              "      async function convertToInteractive(key) {\n",
              "        const element = document.querySelector('#df-404581a6-4e3f-4c3f-8b3a-412a7e1d487d');\n",
              "        const dataTable =\n",
              "          await google.colab.kernel.invokeFunction('convertToInteractive',\n",
              "                                                    [key], {});\n",
              "        if (!dataTable) return;\n",
              "\n",
              "        const docLinkHtml = 'Like what you see? Visit the ' +\n",
              "          '<a target=\"_blank\" href=https://colab.research.google.com/notebooks/data_table.ipynb>data table notebook</a>'\n",
              "          + ' to learn more about interactive tables.';\n",
              "        element.innerHTML = '';\n",
              "        dataTable['output_type'] = 'display_data';\n",
              "        await google.colab.output.renderOutput(dataTable, element);\n",
              "        const docLink = document.createElement('div');\n",
              "        docLink.innerHTML = docLinkHtml;\n",
              "        element.appendChild(docLink);\n",
              "      }\n",
              "    </script>\n",
              "  </div>\n",
              "\n",
              "\n",
              "<div id=\"df-9e545f8d-2698-4713-8d5a-d97314a8b1e7\">\n",
              "  <button class=\"colab-df-quickchart\" onclick=\"quickchart('df-9e545f8d-2698-4713-8d5a-d97314a8b1e7')\"\n",
              "            title=\"Suggest charts\"\n",
              "            style=\"display:none;\">\n",
              "\n",
              "<svg xmlns=\"http://www.w3.org/2000/svg\" height=\"24px\"viewBox=\"0 0 24 24\"\n",
              "     width=\"24px\">\n",
              "    <g>\n",
              "        <path d=\"M19 3H5c-1.1 0-2 .9-2 2v14c0 1.1.9 2 2 2h14c1.1 0 2-.9 2-2V5c0-1.1-.9-2-2-2zM9 17H7v-7h2v7zm4 0h-2V7h2v10zm4 0h-2v-4h2v4z\"/>\n",
              "    </g>\n",
              "</svg>\n",
              "  </button>\n",
              "\n",
              "<style>\n",
              "  .colab-df-quickchart {\n",
              "      --bg-color: #E8F0FE;\n",
              "      --fill-color: #1967D2;\n",
              "      --hover-bg-color: #E2EBFA;\n",
              "      --hover-fill-color: #174EA6;\n",
              "      --disabled-fill-color: #AAA;\n",
              "      --disabled-bg-color: #DDD;\n",
              "  }\n",
              "\n",
              "  [theme=dark] .colab-df-quickchart {\n",
              "      --bg-color: #3B4455;\n",
              "      --fill-color: #D2E3FC;\n",
              "      --hover-bg-color: #434B5C;\n",
              "      --hover-fill-color: #FFFFFF;\n",
              "      --disabled-bg-color: #3B4455;\n",
              "      --disabled-fill-color: #666;\n",
              "  }\n",
              "\n",
              "  .colab-df-quickchart {\n",
              "    background-color: var(--bg-color);\n",
              "    border: none;\n",
              "    border-radius: 50%;\n",
              "    cursor: pointer;\n",
              "    display: none;\n",
              "    fill: var(--fill-color);\n",
              "    height: 32px;\n",
              "    padding: 0;\n",
              "    width: 32px;\n",
              "  }\n",
              "\n",
              "  .colab-df-quickchart:hover {\n",
              "    background-color: var(--hover-bg-color);\n",
              "    box-shadow: 0 1px 2px rgba(60, 64, 67, 0.3), 0 1px 3px 1px rgba(60, 64, 67, 0.15);\n",
              "    fill: var(--button-hover-fill-color);\n",
              "  }\n",
              "\n",
              "  .colab-df-quickchart-complete:disabled,\n",
              "  .colab-df-quickchart-complete:disabled:hover {\n",
              "    background-color: var(--disabled-bg-color);\n",
              "    fill: var(--disabled-fill-color);\n",
              "    box-shadow: none;\n",
              "  }\n",
              "\n",
              "  .colab-df-spinner {\n",
              "    border: 2px solid var(--fill-color);\n",
              "    border-color: transparent;\n",
              "    border-bottom-color: var(--fill-color);\n",
              "    animation:\n",
              "      spin 1s steps(1) infinite;\n",
              "  }\n",
              "\n",
              "  @keyframes spin {\n",
              "    0% {\n",
              "      border-color: transparent;\n",
              "      border-bottom-color: var(--fill-color);\n",
              "      border-left-color: var(--fill-color);\n",
              "    }\n",
              "    20% {\n",
              "      border-color: transparent;\n",
              "      border-left-color: var(--fill-color);\n",
              "      border-top-color: var(--fill-color);\n",
              "    }\n",
              "    30% {\n",
              "      border-color: transparent;\n",
              "      border-left-color: var(--fill-color);\n",
              "      border-top-color: var(--fill-color);\n",
              "      border-right-color: var(--fill-color);\n",
              "    }\n",
              "    40% {\n",
              "      border-color: transparent;\n",
              "      border-right-color: var(--fill-color);\n",
              "      border-top-color: var(--fill-color);\n",
              "    }\n",
              "    60% {\n",
              "      border-color: transparent;\n",
              "      border-right-color: var(--fill-color);\n",
              "    }\n",
              "    80% {\n",
              "      border-color: transparent;\n",
              "      border-right-color: var(--fill-color);\n",
              "      border-bottom-color: var(--fill-color);\n",
              "    }\n",
              "    90% {\n",
              "      border-color: transparent;\n",
              "      border-bottom-color: var(--fill-color);\n",
              "    }\n",
              "  }\n",
              "</style>\n",
              "\n",
              "  <script>\n",
              "    async function quickchart(key) {\n",
              "      const quickchartButtonEl =\n",
              "        document.querySelector('#' + key + ' button');\n",
              "      quickchartButtonEl.disabled = true;  // To prevent multiple clicks.\n",
              "      quickchartButtonEl.classList.add('colab-df-spinner');\n",
              "      try {\n",
              "        const charts = await google.colab.kernel.invokeFunction(\n",
              "            'suggestCharts', [key], {});\n",
              "      } catch (error) {\n",
              "        console.error('Error during call to suggestCharts:', error);\n",
              "      }\n",
              "      quickchartButtonEl.classList.remove('colab-df-spinner');\n",
              "      quickchartButtonEl.classList.add('colab-df-quickchart-complete');\n",
              "    }\n",
              "    (() => {\n",
              "      let quickchartButtonEl =\n",
              "        document.querySelector('#df-9e545f8d-2698-4713-8d5a-d97314a8b1e7 button');\n",
              "      quickchartButtonEl.style.display =\n",
              "        google.colab.kernel.accessAllowed ? 'block' : 'none';\n",
              "    })();\n",
              "  </script>\n",
              "</div>\n",
              "\n",
              "    </div>\n",
              "  </div>\n"
            ],
            "application/vnd.google.colaboratory.intrinsic+json": {
              "type": "dataframe",
              "variable_name": "results",
              "summary": "{\n  \"name\": \"results\",\n  \"rows\": 50,\n  \"fields\": [\n    {\n      \"column\": \"y_true\",\n      \"properties\": {\n        \"dtype\": \"number\",\n        \"std\": 21.072386963056868,\n        \"min\": 49.61020342789271,\n        \"max\": 144.28706047527032,\n        \"num_unique_values\": 50,\n        \"samples\": [\n          99.07405291150233,\n          104.09726921604093,\n          60.06378722616042\n        ],\n        \"semantic_type\": \"\",\n        \"description\": \"\"\n      }\n    },\n    {\n      \"column\": \"y_pred\",\n      \"properties\": {\n        \"dtype\": \"number\",\n        \"std\": 25.340088269737155,\n        \"min\": 39.2555319113659,\n        \"max\": 149.04694521582826,\n        \"num_unique_values\": 50,\n        \"samples\": [\n          105.18836763976856,\n          90.49227057849565,\n          54.208931246002294\n        ],\n        \"semantic_type\": \"\",\n        \"description\": \"\"\n      }\n    }\n  ]\n}"
            }
          },
          "metadata": {},
          "execution_count": 6
        }
      ]
    },
    {
      "cell_type": "code",
      "source": [
        "results['error'] = results['y_true'] - results['y_pred']\n",
        "results.head()"
      ],
      "metadata": {
        "colab": {
          "base_uri": "https://localhost:8080/",
          "height": 206
        },
        "id": "h6V9otrZdrgI",
        "outputId": "976b3166-77c3-4b0d-96c1-50a49712c30c"
      },
      "execution_count": 7,
      "outputs": [
        {
          "output_type": "execute_result",
          "data": {
            "text/plain": [
              "       y_true     y_pred      error\n",
              "0   78.826233  64.169664  14.656569\n",
              "1   84.354028  92.908853  -8.554825\n",
              "2   90.346572  96.960044  -6.613472\n",
              "3   76.930848  60.035395  16.895454\n",
              "4  101.440502  83.944764  17.495738"
            ],
            "text/html": [
              "\n",
              "  <div id=\"df-0b3b5100-fa3b-48cd-a3aa-8316bc8e4fd4\" class=\"colab-df-container\">\n",
              "    <div>\n",
              "<style scoped>\n",
              "    .dataframe tbody tr th:only-of-type {\n",
              "        vertical-align: middle;\n",
              "    }\n",
              "\n",
              "    .dataframe tbody tr th {\n",
              "        vertical-align: top;\n",
              "    }\n",
              "\n",
              "    .dataframe thead th {\n",
              "        text-align: right;\n",
              "    }\n",
              "</style>\n",
              "<table border=\"1\" class=\"dataframe\">\n",
              "  <thead>\n",
              "    <tr style=\"text-align: right;\">\n",
              "      <th></th>\n",
              "      <th>y_true</th>\n",
              "      <th>y_pred</th>\n",
              "      <th>error</th>\n",
              "    </tr>\n",
              "  </thead>\n",
              "  <tbody>\n",
              "    <tr>\n",
              "      <th>0</th>\n",
              "      <td>78.826233</td>\n",
              "      <td>64.169664</td>\n",
              "      <td>14.656569</td>\n",
              "    </tr>\n",
              "    <tr>\n",
              "      <th>1</th>\n",
              "      <td>84.354028</td>\n",
              "      <td>92.908853</td>\n",
              "      <td>-8.554825</td>\n",
              "    </tr>\n",
              "    <tr>\n",
              "      <th>2</th>\n",
              "      <td>90.346572</td>\n",
              "      <td>96.960044</td>\n",
              "      <td>-6.613472</td>\n",
              "    </tr>\n",
              "    <tr>\n",
              "      <th>3</th>\n",
              "      <td>76.930848</td>\n",
              "      <td>60.035395</td>\n",
              "      <td>16.895454</td>\n",
              "    </tr>\n",
              "    <tr>\n",
              "      <th>4</th>\n",
              "      <td>101.440502</td>\n",
              "      <td>83.944764</td>\n",
              "      <td>17.495738</td>\n",
              "    </tr>\n",
              "  </tbody>\n",
              "</table>\n",
              "</div>\n",
              "    <div class=\"colab-df-buttons\">\n",
              "\n",
              "  <div class=\"colab-df-container\">\n",
              "    <button class=\"colab-df-convert\" onclick=\"convertToInteractive('df-0b3b5100-fa3b-48cd-a3aa-8316bc8e4fd4')\"\n",
              "            title=\"Convert this dataframe to an interactive table.\"\n",
              "            style=\"display:none;\">\n",
              "\n",
              "  <svg xmlns=\"http://www.w3.org/2000/svg\" height=\"24px\" viewBox=\"0 -960 960 960\">\n",
              "    <path d=\"M120-120v-720h720v720H120Zm60-500h600v-160H180v160Zm220 220h160v-160H400v160Zm0 220h160v-160H400v160ZM180-400h160v-160H180v160Zm440 0h160v-160H620v160ZM180-180h160v-160H180v160Zm440 0h160v-160H620v160Z\"/>\n",
              "  </svg>\n",
              "    </button>\n",
              "\n",
              "  <style>\n",
              "    .colab-df-container {\n",
              "      display:flex;\n",
              "      gap: 12px;\n",
              "    }\n",
              "\n",
              "    .colab-df-convert {\n",
              "      background-color: #E8F0FE;\n",
              "      border: none;\n",
              "      border-radius: 50%;\n",
              "      cursor: pointer;\n",
              "      display: none;\n",
              "      fill: #1967D2;\n",
              "      height: 32px;\n",
              "      padding: 0 0 0 0;\n",
              "      width: 32px;\n",
              "    }\n",
              "\n",
              "    .colab-df-convert:hover {\n",
              "      background-color: #E2EBFA;\n",
              "      box-shadow: 0px 1px 2px rgba(60, 64, 67, 0.3), 0px 1px 3px 1px rgba(60, 64, 67, 0.15);\n",
              "      fill: #174EA6;\n",
              "    }\n",
              "\n",
              "    .colab-df-buttons div {\n",
              "      margin-bottom: 4px;\n",
              "    }\n",
              "\n",
              "    [theme=dark] .colab-df-convert {\n",
              "      background-color: #3B4455;\n",
              "      fill: #D2E3FC;\n",
              "    }\n",
              "\n",
              "    [theme=dark] .colab-df-convert:hover {\n",
              "      background-color: #434B5C;\n",
              "      box-shadow: 0px 1px 3px 1px rgba(0, 0, 0, 0.15);\n",
              "      filter: drop-shadow(0px 1px 2px rgba(0, 0, 0, 0.3));\n",
              "      fill: #FFFFFF;\n",
              "    }\n",
              "  </style>\n",
              "\n",
              "    <script>\n",
              "      const buttonEl =\n",
              "        document.querySelector('#df-0b3b5100-fa3b-48cd-a3aa-8316bc8e4fd4 button.colab-df-convert');\n",
              "      buttonEl.style.display =\n",
              "        google.colab.kernel.accessAllowed ? 'block' : 'none';\n",
              "\n",
              "      async function convertToInteractive(key) {\n",
              "        const element = document.querySelector('#df-0b3b5100-fa3b-48cd-a3aa-8316bc8e4fd4');\n",
              "        const dataTable =\n",
              "          await google.colab.kernel.invokeFunction('convertToInteractive',\n",
              "                                                    [key], {});\n",
              "        if (!dataTable) return;\n",
              "\n",
              "        const docLinkHtml = 'Like what you see? Visit the ' +\n",
              "          '<a target=\"_blank\" href=https://colab.research.google.com/notebooks/data_table.ipynb>data table notebook</a>'\n",
              "          + ' to learn more about interactive tables.';\n",
              "        element.innerHTML = '';\n",
              "        dataTable['output_type'] = 'display_data';\n",
              "        await google.colab.output.renderOutput(dataTable, element);\n",
              "        const docLink = document.createElement('div');\n",
              "        docLink.innerHTML = docLinkHtml;\n",
              "        element.appendChild(docLink);\n",
              "      }\n",
              "    </script>\n",
              "  </div>\n",
              "\n",
              "\n",
              "<div id=\"df-62446768-6e9c-40d3-8672-a3af94cf12f7\">\n",
              "  <button class=\"colab-df-quickchart\" onclick=\"quickchart('df-62446768-6e9c-40d3-8672-a3af94cf12f7')\"\n",
              "            title=\"Suggest charts\"\n",
              "            style=\"display:none;\">\n",
              "\n",
              "<svg xmlns=\"http://www.w3.org/2000/svg\" height=\"24px\"viewBox=\"0 0 24 24\"\n",
              "     width=\"24px\">\n",
              "    <g>\n",
              "        <path d=\"M19 3H5c-1.1 0-2 .9-2 2v14c0 1.1.9 2 2 2h14c1.1 0 2-.9 2-2V5c0-1.1-.9-2-2-2zM9 17H7v-7h2v7zm4 0h-2V7h2v10zm4 0h-2v-4h2v4z\"/>\n",
              "    </g>\n",
              "</svg>\n",
              "  </button>\n",
              "\n",
              "<style>\n",
              "  .colab-df-quickchart {\n",
              "      --bg-color: #E8F0FE;\n",
              "      --fill-color: #1967D2;\n",
              "      --hover-bg-color: #E2EBFA;\n",
              "      --hover-fill-color: #174EA6;\n",
              "      --disabled-fill-color: #AAA;\n",
              "      --disabled-bg-color: #DDD;\n",
              "  }\n",
              "\n",
              "  [theme=dark] .colab-df-quickchart {\n",
              "      --bg-color: #3B4455;\n",
              "      --fill-color: #D2E3FC;\n",
              "      --hover-bg-color: #434B5C;\n",
              "      --hover-fill-color: #FFFFFF;\n",
              "      --disabled-bg-color: #3B4455;\n",
              "      --disabled-fill-color: #666;\n",
              "  }\n",
              "\n",
              "  .colab-df-quickchart {\n",
              "    background-color: var(--bg-color);\n",
              "    border: none;\n",
              "    border-radius: 50%;\n",
              "    cursor: pointer;\n",
              "    display: none;\n",
              "    fill: var(--fill-color);\n",
              "    height: 32px;\n",
              "    padding: 0;\n",
              "    width: 32px;\n",
              "  }\n",
              "\n",
              "  .colab-df-quickchart:hover {\n",
              "    background-color: var(--hover-bg-color);\n",
              "    box-shadow: 0 1px 2px rgba(60, 64, 67, 0.3), 0 1px 3px 1px rgba(60, 64, 67, 0.15);\n",
              "    fill: var(--button-hover-fill-color);\n",
              "  }\n",
              "\n",
              "  .colab-df-quickchart-complete:disabled,\n",
              "  .colab-df-quickchart-complete:disabled:hover {\n",
              "    background-color: var(--disabled-bg-color);\n",
              "    fill: var(--disabled-fill-color);\n",
              "    box-shadow: none;\n",
              "  }\n",
              "\n",
              "  .colab-df-spinner {\n",
              "    border: 2px solid var(--fill-color);\n",
              "    border-color: transparent;\n",
              "    border-bottom-color: var(--fill-color);\n",
              "    animation:\n",
              "      spin 1s steps(1) infinite;\n",
              "  }\n",
              "\n",
              "  @keyframes spin {\n",
              "    0% {\n",
              "      border-color: transparent;\n",
              "      border-bottom-color: var(--fill-color);\n",
              "      border-left-color: var(--fill-color);\n",
              "    }\n",
              "    20% {\n",
              "      border-color: transparent;\n",
              "      border-left-color: var(--fill-color);\n",
              "      border-top-color: var(--fill-color);\n",
              "    }\n",
              "    30% {\n",
              "      border-color: transparent;\n",
              "      border-left-color: var(--fill-color);\n",
              "      border-top-color: var(--fill-color);\n",
              "      border-right-color: var(--fill-color);\n",
              "    }\n",
              "    40% {\n",
              "      border-color: transparent;\n",
              "      border-right-color: var(--fill-color);\n",
              "      border-top-color: var(--fill-color);\n",
              "    }\n",
              "    60% {\n",
              "      border-color: transparent;\n",
              "      border-right-color: var(--fill-color);\n",
              "    }\n",
              "    80% {\n",
              "      border-color: transparent;\n",
              "      border-right-color: var(--fill-color);\n",
              "      border-bottom-color: var(--fill-color);\n",
              "    }\n",
              "    90% {\n",
              "      border-color: transparent;\n",
              "      border-bottom-color: var(--fill-color);\n",
              "    }\n",
              "  }\n",
              "</style>\n",
              "\n",
              "  <script>\n",
              "    async function quickchart(key) {\n",
              "      const quickchartButtonEl =\n",
              "        document.querySelector('#' + key + ' button');\n",
              "      quickchartButtonEl.disabled = true;  // To prevent multiple clicks.\n",
              "      quickchartButtonEl.classList.add('colab-df-spinner');\n",
              "      try {\n",
              "        const charts = await google.colab.kernel.invokeFunction(\n",
              "            'suggestCharts', [key], {});\n",
              "      } catch (error) {\n",
              "        console.error('Error during call to suggestCharts:', error);\n",
              "      }\n",
              "      quickchartButtonEl.classList.remove('colab-df-spinner');\n",
              "      quickchartButtonEl.classList.add('colab-df-quickchart-complete');\n",
              "    }\n",
              "    (() => {\n",
              "      let quickchartButtonEl =\n",
              "        document.querySelector('#df-62446768-6e9c-40d3-8672-a3af94cf12f7 button');\n",
              "      quickchartButtonEl.style.display =\n",
              "        google.colab.kernel.accessAllowed ? 'block' : 'none';\n",
              "    })();\n",
              "  </script>\n",
              "</div>\n",
              "\n",
              "    </div>\n",
              "  </div>\n"
            ],
            "application/vnd.google.colaboratory.intrinsic+json": {
              "type": "dataframe",
              "variable_name": "results",
              "summary": "{\n  \"name\": \"results\",\n  \"rows\": 50,\n  \"fields\": [\n    {\n      \"column\": \"y_true\",\n      \"properties\": {\n        \"dtype\": \"number\",\n        \"std\": 21.072386963056868,\n        \"min\": 49.61020342789271,\n        \"max\": 144.28706047527032,\n        \"num_unique_values\": 50,\n        \"samples\": [\n          99.07405291150233,\n          104.09726921604093,\n          60.06378722616042\n        ],\n        \"semantic_type\": \"\",\n        \"description\": \"\"\n      }\n    },\n    {\n      \"column\": \"y_pred\",\n      \"properties\": {\n        \"dtype\": \"number\",\n        \"std\": 25.340088269737155,\n        \"min\": 39.2555319113659,\n        \"max\": 149.04694521582826,\n        \"num_unique_values\": 50,\n        \"samples\": [\n          105.18836763976856,\n          90.49227057849565,\n          54.208931246002294\n        ],\n        \"semantic_type\": \"\",\n        \"description\": \"\"\n      }\n    },\n    {\n      \"column\": \"error\",\n      \"properties\": {\n        \"dtype\": \"number\",\n        \"std\": 11.139904506952808,\n        \"min\": -25.20801364901338,\n        \"max\": 28.627771739493873,\n        \"num_unique_values\": 50,\n        \"samples\": [\n          -6.114314728266223,\n          13.604998637545279,\n          5.854855980158128\n        ],\n        \"semantic_type\": \"\",\n        \"description\": \"\"\n      }\n    }\n  ]\n}"
            }
          },
          "metadata": {},
          "execution_count": 7
        }
      ]
    },
    {
      "cell_type": "markdown",
      "source": [
        "\n",
        "### <a name='a2'></a> Interpretacja graficzna"
      ],
      "metadata": {
        "id": "tXykE57iPxna"
      }
    },
    {
      "cell_type": "code",
      "source": [
        "def plot_regression_results(y_true, y_pred):\n",
        "    results = pd.DataFrame({'y_true': y_true, 'y_pred': y_pred})\n",
        "    min = results[['y_true', 'y_pred']].min().min()\n",
        "    max = results[['y_true', 'y_pred']].max().max()\n",
        "\n",
        "    fig = go.Figure(data=[go.Scatter(x=results['y_true'], y=results['y_pred'], mode = 'markers'),\n",
        "                    go.Scatter(x=[min,max], y=[min,max])],\n",
        "                    layout=go.Layout(showlegend=False, width=800, height = 500,\n",
        "                                     xaxis_title='y_true',\n",
        "                                     yaxis_title='y_pred',\n",
        "                                     title='Refression results'))\n",
        "    fig.show()\n",
        "\n",
        "plot_regression_results(y_true, y_pred)"
      ],
      "metadata": {
        "colab": {
          "base_uri": "https://localhost:8080/",
          "height": 517
        },
        "id": "GwIZpgPleIIQ",
        "outputId": "5f963132-f691-41df-ef72-000225108673"
      },
      "execution_count": 10,
      "outputs": [
        {
          "output_type": "display_data",
          "data": {
            "text/html": [
              "<html>\n",
              "<head><meta charset=\"utf-8\" /></head>\n",
              "<body>\n",
              "    <div>            <script src=\"https://cdnjs.cloudflare.com/ajax/libs/mathjax/2.7.5/MathJax.js?config=TeX-AMS-MML_SVG\"></script><script type=\"text/javascript\">if (window.MathJax && window.MathJax.Hub && window.MathJax.Hub.Config) {window.MathJax.Hub.Config({SVG: {font: \"STIX-Web\"}});}</script>                <script type=\"text/javascript\">window.PlotlyConfig = {MathJaxConfig: 'local'};</script>\n",
              "        <script charset=\"utf-8\" src=\"https://cdn.plot.ly/plotly-2.35.2.min.js\"></script>                <div id=\"9bdda4c3-98e6-4f3d-be72-7438e4978c55\" class=\"plotly-graph-div\" style=\"height:500px; width:800px;\"></div>            <script type=\"text/javascript\">                                    window.PLOTLYENV=window.PLOTLYENV || {};                                    if (document.getElementById(\"9bdda4c3-98e6-4f3d-be72-7438e4978c55\")) {                    Plotly.newPlot(                        \"9bdda4c3-98e6-4f3d-be72-7438e4978c55\",                        [{\"mode\":\"markers\",\"x\":[78.82623319415714,84.35402804198328,90.3465717241319,76.93084846375922,101.44050198791975,105.61427330928362,119.13462356041268,121.33060622714584,104.42164518083929,136.7825234054794,116.81078737033097,101.23405572879425,94.06483677749092,99.07405291150233,115.67783236042854,73.01434732281794,144.28706047527032,74.96507053394996,122.98421183035282,123.09999978488263,79.02500004089623,111.16923156438158,95.84394057581834,124.01519346879068,49.61020342789271,70.71950485058807,93.36777945742486,127.43236560785438,97.86014088197174,81.37531135428016,60.06378722616042,74.78270946481516,90.48934474039272,114.23398526106138,75.1104135903515,107.64840325698079,87.82110675815126,78.94250386981307,102.40400840558057,104.09726921604093,119.47712436648395,78.82803208329177,123.90728512248579,67.88330365085977,89.3997163504865,88.00466941963987,98.48856128056582,74.17174398719334,78.31485876318177,119.54304148483845],\"y\":[64.16966413384625,92.90885254915945,96.96004382405019,60.035394732274085,83.94476380365664,105.68718418937864,122.56095767738329,129.25558092450487,99.2649375724849,125.16492628484139,126.03642615422822,104.49368590529697,94.77276013869657,105.18836763976856,116.19843305156718,67.29232314325557,149.04694521582826,79.88097676560541,121.09746635356825,131.3395408115886,74.63372937066724,122.89822953040158,76.74819373361007,133.73931080242215,40.95908690477877,85.20415951277576,99.12546701173325,127.65687199127306,113.40537383158721,69.97386232410022,54.208931246002294,77.88162593701307,115.6973583894061,114.2254713007437,81.80852055350964,99.97116927374019,91.576950435716,63.04689835204791,121.07441164059286,90.49227057849565,105.09460814770357,89.81545448975315,120.6297872444414,39.2555319113659,98.02849953431213,74.5063989069706,86.7909634416734,78.3737875708381,64.60405969055498,113.4749302960882],\"type\":\"scatter\"},{\"x\":[39.2555319113659,149.04694521582826],\"y\":[39.2555319113659,149.04694521582826],\"type\":\"scatter\"}],                        {\"height\":500,\"showlegend\":false,\"title\":{\"text\":\"Refression results\"},\"width\":800,\"xaxis\":{\"title\":{\"text\":\"y_true\"}},\"yaxis\":{\"title\":{\"text\":\"y_pred\"}},\"template\":{\"data\":{\"histogram2dcontour\":[{\"type\":\"histogram2dcontour\",\"colorbar\":{\"outlinewidth\":0,\"ticks\":\"\"},\"colorscale\":[[0.0,\"#0d0887\"],[0.1111111111111111,\"#46039f\"],[0.2222222222222222,\"#7201a8\"],[0.3333333333333333,\"#9c179e\"],[0.4444444444444444,\"#bd3786\"],[0.5555555555555556,\"#d8576b\"],[0.6666666666666666,\"#ed7953\"],[0.7777777777777778,\"#fb9f3a\"],[0.8888888888888888,\"#fdca26\"],[1.0,\"#f0f921\"]]}],\"choropleth\":[{\"type\":\"choropleth\",\"colorbar\":{\"outlinewidth\":0,\"ticks\":\"\"}}],\"histogram2d\":[{\"type\":\"histogram2d\",\"colorbar\":{\"outlinewidth\":0,\"ticks\":\"\"},\"colorscale\":[[0.0,\"#0d0887\"],[0.1111111111111111,\"#46039f\"],[0.2222222222222222,\"#7201a8\"],[0.3333333333333333,\"#9c179e\"],[0.4444444444444444,\"#bd3786\"],[0.5555555555555556,\"#d8576b\"],[0.6666666666666666,\"#ed7953\"],[0.7777777777777778,\"#fb9f3a\"],[0.8888888888888888,\"#fdca26\"],[1.0,\"#f0f921\"]]}],\"heatmap\":[{\"type\":\"heatmap\",\"colorbar\":{\"outlinewidth\":0,\"ticks\":\"\"},\"colorscale\":[[0.0,\"#0d0887\"],[0.1111111111111111,\"#46039f\"],[0.2222222222222222,\"#7201a8\"],[0.3333333333333333,\"#9c179e\"],[0.4444444444444444,\"#bd3786\"],[0.5555555555555556,\"#d8576b\"],[0.6666666666666666,\"#ed7953\"],[0.7777777777777778,\"#fb9f3a\"],[0.8888888888888888,\"#fdca26\"],[1.0,\"#f0f921\"]]}],\"heatmapgl\":[{\"type\":\"heatmapgl\",\"colorbar\":{\"outlinewidth\":0,\"ticks\":\"\"},\"colorscale\":[[0.0,\"#0d0887\"],[0.1111111111111111,\"#46039f\"],[0.2222222222222222,\"#7201a8\"],[0.3333333333333333,\"#9c179e\"],[0.4444444444444444,\"#bd3786\"],[0.5555555555555556,\"#d8576b\"],[0.6666666666666666,\"#ed7953\"],[0.7777777777777778,\"#fb9f3a\"],[0.8888888888888888,\"#fdca26\"],[1.0,\"#f0f921\"]]}],\"contourcarpet\":[{\"type\":\"contourcarpet\",\"colorbar\":{\"outlinewidth\":0,\"ticks\":\"\"}}],\"contour\":[{\"type\":\"contour\",\"colorbar\":{\"outlinewidth\":0,\"ticks\":\"\"},\"colorscale\":[[0.0,\"#0d0887\"],[0.1111111111111111,\"#46039f\"],[0.2222222222222222,\"#7201a8\"],[0.3333333333333333,\"#9c179e\"],[0.4444444444444444,\"#bd3786\"],[0.5555555555555556,\"#d8576b\"],[0.6666666666666666,\"#ed7953\"],[0.7777777777777778,\"#fb9f3a\"],[0.8888888888888888,\"#fdca26\"],[1.0,\"#f0f921\"]]}],\"surface\":[{\"type\":\"surface\",\"colorbar\":{\"outlinewidth\":0,\"ticks\":\"\"},\"colorscale\":[[0.0,\"#0d0887\"],[0.1111111111111111,\"#46039f\"],[0.2222222222222222,\"#7201a8\"],[0.3333333333333333,\"#9c179e\"],[0.4444444444444444,\"#bd3786\"],[0.5555555555555556,\"#d8576b\"],[0.6666666666666666,\"#ed7953\"],[0.7777777777777778,\"#fb9f3a\"],[0.8888888888888888,\"#fdca26\"],[1.0,\"#f0f921\"]]}],\"mesh3d\":[{\"type\":\"mesh3d\",\"colorbar\":{\"outlinewidth\":0,\"ticks\":\"\"}}],\"scatter\":[{\"fillpattern\":{\"fillmode\":\"overlay\",\"size\":10,\"solidity\":0.2},\"type\":\"scatter\"}],\"parcoords\":[{\"type\":\"parcoords\",\"line\":{\"colorbar\":{\"outlinewidth\":0,\"ticks\":\"\"}}}],\"scatterpolargl\":[{\"type\":\"scatterpolargl\",\"marker\":{\"colorbar\":{\"outlinewidth\":0,\"ticks\":\"\"}}}],\"bar\":[{\"error_x\":{\"color\":\"#2a3f5f\"},\"error_y\":{\"color\":\"#2a3f5f\"},\"marker\":{\"line\":{\"color\":\"#E5ECF6\",\"width\":0.5},\"pattern\":{\"fillmode\":\"overlay\",\"size\":10,\"solidity\":0.2}},\"type\":\"bar\"}],\"scattergeo\":[{\"type\":\"scattergeo\",\"marker\":{\"colorbar\":{\"outlinewidth\":0,\"ticks\":\"\"}}}],\"scatterpolar\":[{\"type\":\"scatterpolar\",\"marker\":{\"colorbar\":{\"outlinewidth\":0,\"ticks\":\"\"}}}],\"histogram\":[{\"marker\":{\"pattern\":{\"fillmode\":\"overlay\",\"size\":10,\"solidity\":0.2}},\"type\":\"histogram\"}],\"scattergl\":[{\"type\":\"scattergl\",\"marker\":{\"colorbar\":{\"outlinewidth\":0,\"ticks\":\"\"}}}],\"scatter3d\":[{\"type\":\"scatter3d\",\"line\":{\"colorbar\":{\"outlinewidth\":0,\"ticks\":\"\"}},\"marker\":{\"colorbar\":{\"outlinewidth\":0,\"ticks\":\"\"}}}],\"scattermapbox\":[{\"type\":\"scattermapbox\",\"marker\":{\"colorbar\":{\"outlinewidth\":0,\"ticks\":\"\"}}}],\"scatterternary\":[{\"type\":\"scatterternary\",\"marker\":{\"colorbar\":{\"outlinewidth\":0,\"ticks\":\"\"}}}],\"scattercarpet\":[{\"type\":\"scattercarpet\",\"marker\":{\"colorbar\":{\"outlinewidth\":0,\"ticks\":\"\"}}}],\"carpet\":[{\"aaxis\":{\"endlinecolor\":\"#2a3f5f\",\"gridcolor\":\"white\",\"linecolor\":\"white\",\"minorgridcolor\":\"white\",\"startlinecolor\":\"#2a3f5f\"},\"baxis\":{\"endlinecolor\":\"#2a3f5f\",\"gridcolor\":\"white\",\"linecolor\":\"white\",\"minorgridcolor\":\"white\",\"startlinecolor\":\"#2a3f5f\"},\"type\":\"carpet\"}],\"table\":[{\"cells\":{\"fill\":{\"color\":\"#EBF0F8\"},\"line\":{\"color\":\"white\"}},\"header\":{\"fill\":{\"color\":\"#C8D4E3\"},\"line\":{\"color\":\"white\"}},\"type\":\"table\"}],\"barpolar\":[{\"marker\":{\"line\":{\"color\":\"#E5ECF6\",\"width\":0.5},\"pattern\":{\"fillmode\":\"overlay\",\"size\":10,\"solidity\":0.2}},\"type\":\"barpolar\"}],\"pie\":[{\"automargin\":true,\"type\":\"pie\"}]},\"layout\":{\"autotypenumbers\":\"strict\",\"colorway\":[\"#636efa\",\"#EF553B\",\"#00cc96\",\"#ab63fa\",\"#FFA15A\",\"#19d3f3\",\"#FF6692\",\"#B6E880\",\"#FF97FF\",\"#FECB52\"],\"font\":{\"color\":\"#2a3f5f\"},\"hovermode\":\"closest\",\"hoverlabel\":{\"align\":\"left\"},\"paper_bgcolor\":\"white\",\"plot_bgcolor\":\"#E5ECF6\",\"polar\":{\"bgcolor\":\"#E5ECF6\",\"angularaxis\":{\"gridcolor\":\"white\",\"linecolor\":\"white\",\"ticks\":\"\"},\"radialaxis\":{\"gridcolor\":\"white\",\"linecolor\":\"white\",\"ticks\":\"\"}},\"ternary\":{\"bgcolor\":\"#E5ECF6\",\"aaxis\":{\"gridcolor\":\"white\",\"linecolor\":\"white\",\"ticks\":\"\"},\"baxis\":{\"gridcolor\":\"white\",\"linecolor\":\"white\",\"ticks\":\"\"},\"caxis\":{\"gridcolor\":\"white\",\"linecolor\":\"white\",\"ticks\":\"\"}},\"coloraxis\":{\"colorbar\":{\"outlinewidth\":0,\"ticks\":\"\"}},\"colorscale\":{\"sequential\":[[0.0,\"#0d0887\"],[0.1111111111111111,\"#46039f\"],[0.2222222222222222,\"#7201a8\"],[0.3333333333333333,\"#9c179e\"],[0.4444444444444444,\"#bd3786\"],[0.5555555555555556,\"#d8576b\"],[0.6666666666666666,\"#ed7953\"],[0.7777777777777778,\"#fb9f3a\"],[0.8888888888888888,\"#fdca26\"],[1.0,\"#f0f921\"]],\"sequentialminus\":[[0.0,\"#0d0887\"],[0.1111111111111111,\"#46039f\"],[0.2222222222222222,\"#7201a8\"],[0.3333333333333333,\"#9c179e\"],[0.4444444444444444,\"#bd3786\"],[0.5555555555555556,\"#d8576b\"],[0.6666666666666666,\"#ed7953\"],[0.7777777777777778,\"#fb9f3a\"],[0.8888888888888888,\"#fdca26\"],[1.0,\"#f0f921\"]],\"diverging\":[[0,\"#8e0152\"],[0.1,\"#c51b7d\"],[0.2,\"#de77ae\"],[0.3,\"#f1b6da\"],[0.4,\"#fde0ef\"],[0.5,\"#f7f7f7\"],[0.6,\"#e6f5d0\"],[0.7,\"#b8e186\"],[0.8,\"#7fbc41\"],[0.9,\"#4d9221\"],[1,\"#276419\"]]},\"xaxis\":{\"gridcolor\":\"white\",\"linecolor\":\"white\",\"ticks\":\"\",\"title\":{\"standoff\":15},\"zerolinecolor\":\"white\",\"automargin\":true,\"zerolinewidth\":2},\"yaxis\":{\"gridcolor\":\"white\",\"linecolor\":\"white\",\"ticks\":\"\",\"title\":{\"standoff\":15},\"zerolinecolor\":\"white\",\"automargin\":true,\"zerolinewidth\":2},\"scene\":{\"xaxis\":{\"backgroundcolor\":\"#E5ECF6\",\"gridcolor\":\"white\",\"linecolor\":\"white\",\"showbackground\":true,\"ticks\":\"\",\"zerolinecolor\":\"white\",\"gridwidth\":2},\"yaxis\":{\"backgroundcolor\":\"#E5ECF6\",\"gridcolor\":\"white\",\"linecolor\":\"white\",\"showbackground\":true,\"ticks\":\"\",\"zerolinecolor\":\"white\",\"gridwidth\":2},\"zaxis\":{\"backgroundcolor\":\"#E5ECF6\",\"gridcolor\":\"white\",\"linecolor\":\"white\",\"showbackground\":true,\"ticks\":\"\",\"zerolinecolor\":\"white\",\"gridwidth\":2}},\"shapedefaults\":{\"line\":{\"color\":\"#2a3f5f\"}},\"annotationdefaults\":{\"arrowcolor\":\"#2a3f5f\",\"arrowhead\":0,\"arrowwidth\":1},\"geo\":{\"bgcolor\":\"white\",\"landcolor\":\"#E5ECF6\",\"subunitcolor\":\"white\",\"showland\":true,\"showlakes\":true,\"lakecolor\":\"white\"},\"title\":{\"x\":0.05},\"mapbox\":{\"style\":\"light\"}}}},                        {\"responsive\": true}                    ).then(function(){\n",
              "                            \n",
              "var gd = document.getElementById('9bdda4c3-98e6-4f3d-be72-7438e4978c55');\n",
              "var x = new MutationObserver(function (mutations, observer) {{\n",
              "        var display = window.getComputedStyle(gd).display;\n",
              "        if (!display || display === 'none') {{\n",
              "            console.log([gd, 'removed!']);\n",
              "            Plotly.purge(gd);\n",
              "            observer.disconnect();\n",
              "        }}\n",
              "}});\n",
              "\n",
              "// Listen for the removal of the full notebook cells\n",
              "var notebookContainer = gd.closest('#notebook-container');\n",
              "if (notebookContainer) {{\n",
              "    x.observe(notebookContainer, {childList: true});\n",
              "}}\n",
              "\n",
              "// Listen for the clearing of the current output cell\n",
              "var outputEl = gd.closest('.output');\n",
              "if (outputEl) {{\n",
              "    x.observe(outputEl, {childList: true});\n",
              "}}\n",
              "\n",
              "                        })                };                            </script>        </div>\n",
              "</body>\n",
              "</html>"
            ]
          },
          "metadata": {}
        }
      ]
    },
    {
      "cell_type": "code",
      "source": [
        "y_true = 100 + 20 * np.random.randn(1000)\n",
        "y_pred = y_true + 10 * np.random.randn(1000)\n",
        "results = pd.DataFrame({'y_true': y_true, 'y_pred': y_pred})\n",
        "results['error'] = results['y_true'] - results['y_pred']\n",
        "\n",
        "px.histogram(results, x='error', nbins=50, width=800)\n"
      ],
      "metadata": {
        "colab": {
          "base_uri": "https://localhost:8080/",
          "height": 542
        },
        "id": "F6riITTTg86t",
        "outputId": "b9869765-6f6f-4afe-a873-ac1c022d2116"
      },
      "execution_count": 12,
      "outputs": [
        {
          "output_type": "display_data",
          "data": {
            "text/html": [
              "<html>\n",
              "<head><meta charset=\"utf-8\" /></head>\n",
              "<body>\n",
              "    <div>            <script src=\"https://cdnjs.cloudflare.com/ajax/libs/mathjax/2.7.5/MathJax.js?config=TeX-AMS-MML_SVG\"></script><script type=\"text/javascript\">if (window.MathJax && window.MathJax.Hub && window.MathJax.Hub.Config) {window.MathJax.Hub.Config({SVG: {font: \"STIX-Web\"}});}</script>                <script type=\"text/javascript\">window.PlotlyConfig = {MathJaxConfig: 'local'};</script>\n",
              "        <script charset=\"utf-8\" src=\"https://cdn.plot.ly/plotly-2.35.2.min.js\"></script>                <div id=\"8fb07d89-1390-4913-9bb8-6d38b10882fe\" class=\"plotly-graph-div\" style=\"height:525px; width:800px;\"></div>            <script type=\"text/javascript\">                                    window.PLOTLYENV=window.PLOTLYENV || {};                                    if (document.getElementById(\"8fb07d89-1390-4913-9bb8-6d38b10882fe\")) {                    Plotly.newPlot(                        \"8fb07d89-1390-4913-9bb8-6d38b10882fe\",                        [{\"alignmentgroup\":\"True\",\"bingroup\":\"x\",\"hovertemplate\":\"error=%{x}\\u003cbr\\u003ecount=%{y}\\u003cextra\\u003e\\u003c\\u002fextra\\u003e\",\"legendgroup\":\"\",\"marker\":{\"color\":\"#636efa\",\"pattern\":{\"shape\":\"\"}},\"name\":\"\",\"nbinsx\":50,\"offsetgroup\":\"\",\"orientation\":\"v\",\"showlegend\":false,\"x\":[-10.256213983278315,5.043417906840006,-4.4328978547079885,3.1304129369264615,-0.4564981338716194,-0.9180455911763232,6.220923507432893,20.791200506859127,0.41636179916031324,-0.9461030226307798,-3.480719279484262,-7.55536563507998,-9.682519516601516,3.328328930935342,-0.8925059758097404,-32.02918561996553,-3.0297365530773703,-17.007526352719253,-7.330067940917132,-16.088366042173107,9.445410752398658,-4.662530761901358,-13.342173810847044,8.389056764266442,-5.158079909446826,-4.768296744152053,19.02573636041749,-2.117496727324834,-0.03621256331817335,1.2730967367975268,-11.659406519454947,9.7498459435743,-7.829716309083608,3.9259094466038107,-20.796709643471303,-14.308222632828269,16.44559099572163,-16.938782843152126,-5.786392713927171,12.548575783297892,-27.899315272241495,-5.477646244439242,8.265094866315579,12.328670479541813,4.573800095940044,-1.3356588541782912,-0.10903508367290726,14.264129427071182,4.85510633124656,-23.974383136157,21.68800317553189,10.158632270561625,0.3430956920885535,0.1227855264189941,0.9331808758701783,3.924709373472041,-2.733954933323446,-1.0398644589351562,-11.344964110415205,-6.175837171010002,8.327675140429463,-5.853626220003392,0.6069719592932614,-6.34304319021831,-6.417687152151245,9.661483083238316,7.917469562800406,-22.63696765825155,-4.139272031856095,1.7950431781065816,-2.556765802511862,12.76114500554722,-14.087058598184655,2.7786410639763375,-12.758755065115224,2.6982479847090843,4.822979285919544,10.327351665924127,-9.910905120264417,-0.5210655807867397,4.137717163610276,-13.227000974137539,4.647160025782,2.9728183109060566,-2.3987634638593534,3.824623085651311,6.199165789035931,-1.8350916605548662,-5.9241918685847,7.318054630681601,-12.015407361081103,-3.434701842101788,2.5174547516536308,-5.9875856574142645,9.170694133003664,0.5276582872898814,-24.664629112755563,-0.3764199594170776,-3.2504707622975673,10.889665307291665,-0.2809591361316137,7.431034122562281,-9.08406092453086,-3.7684692344618895,9.2501913724726,19.996774191567397,-22.096472429621315,3.81657956224187,6.074888682530471,-13.153822429354904,-10.630672615500202,-6.732323270937911,-12.776368745483765,-11.062143874216815,6.619419671798468,10.267416540432748,12.760498755178844,-9.954729077684988,-11.453254061106037,15.309174455807991,-12.04086354746832,4.154256662505269,5.015655995249304,-0.009196275226585726,-5.705708010619588,4.153243230878445,3.354156944478561,-0.647638272048539,-10.077611466847372,-3.376121333250083,12.940844015305842,7.24511226197545,2.723808172656021,-0.262012012691784,-6.79483307103942,6.08501038410337,-3.6045157025734227,2.5129688613340733,-5.620558949724291,-7.080953238583255,22.51445624057198,-10.39722756900197,-2.556519080081543,-9.823183909875269,-7.205746649643956,-10.974097942708582,4.983775141021852,-10.403108094724118,1.8453153289965485,4.071990281719195,-5.475309410590597,5.0034461683962945,13.65290486681792,27.252516019997636,23.903364760763665,-14.322373952456246,3.420555813699508,-19.401617618042607,-10.636149615492783,0.09113473296459063,0.09172993074167834,-11.858137068126624,-0.1478776366385688,10.110091263794956,-5.63902061153442,-11.519241996928471,4.231054482553603,-14.152463218389286,-3.6418645768639237,7.314142966625155,8.026973443031835,-5.321079501425842,19.607129514893117,25.497506203198355,-1.858261241408897,11.854817230746391,8.564178601507578,-1.6205796129428478,18.239741455564015,-14.455476380544752,-9.173034567230914,19.813218671260643,-11.959380212019468,-6.587557996719525,2.8883660212700164,16.086251490834087,-9.57610226416368,-2.353239313675104,-3.4614289093125308,-18.59075438741671,4.214681289322911,19.853923549784938,-6.391575184213082,21.7949999580906,3.4014898458371903,0.44842102825835184,13.237664181443833,-9.60442814147818,-14.118251860412386,-8.136292122347385,-1.328266104304575,3.962813316645992,-19.53987590489048,-0.22540205516584422,4.379534137454812,9.085568099873598,2.6908021051916506,15.720961535364424,-10.8051868660353,-6.430056132467115,-6.803578994007836,-15.795884092766087,-1.134504208580438,4.607315657222372,-12.36915577285859,-8.186754025595661,2.4497110478199744,-2.626777141398307,11.48193620782996,3.8135765009015046,-10.272690001023648,-0.005218048379759921,-17.92550287454965,-1.5310308087149451,4.195093287403836,16.104607282536108,-3.45308071828687,-13.922312868197395,-3.216490714334114,-9.381027735241652,-8.300068760854003,9.546561650934478,8.270517390389259,-4.546296649312524,-1.7091700318484584,8.45566633732733,-14.07210098685259,6.736743493402301,-11.801745499068971,-5.435959230984096,-11.479463229742208,-0.8939477112171801,7.671342275375181,5.36222749195494,4.219253066693753,9.784576563374557,6.377831057547212,-1.8627463180848167,-6.824710076832403,-4.99410672090238,5.1212012025831655,12.140795407218462,6.488037132294821,10.763489406792942,0.149981977987224,-8.6166302476408,-14.588351863968782,-4.071558442935483,0.6122093291603363,-15.794361460526062,-7.107489539074464,16.726657318590554,8.076274023952095,-8.890999009642584,3.694939206659356,8.770626523475968,13.8007004123115,11.136460154902565,-3.0284150334268816,-7.399202626890599,9.194569183605822,-6.672739686719353,-6.687289036126543,-1.5743211923632074,-2.404749668554331,4.732611219289453,6.203585816370676,9.369190328603793,3.1734845329279864,2.7435413205460435,7.457171441595847,4.005288105893385,-17.13188054606138,-9.453624772534894,5.2191436916383225,-13.40766639153324,2.416183889473473,-7.017502783809036,10.97080964278517,2.1060835706944374,1.46869837420995,0.06726151138913394,-4.987827046903533,-7.747199683659417,-13.197560163593366,4.875199712952025,7.600994329905902,-2.967827707506345,0.2394463881610278,-16.39112042433146,-3.2328801631100816,16.15639289735401,-22.57718692687996,16.16059793061278,-4.23601608712697,0.025414987802065525,-15.00406572330715,-18.425618081268695,-3.6858369465342093,-4.331842806045344,1.0387628420755703,-6.1199920395939245,23.632838947288306,0.24475590272898273,-1.182562601369142,-2.012402387331761,11.983934509424785,-6.97468778032043,-4.309336728687313,-10.277295124700302,33.64923716993046,-14.006118918623883,8.48877683607951,10.108074625063153,2.9331950615410847,-0.8400931437681294,0.8263082400846713,-8.408540902880219,-2.3301382292681723,2.3805871630411986,5.1129877214765145,-0.586365793627408,11.652433064032849,7.479608255155824,3.48935053371153,7.815195158540689,-6.5169793810946,-20.13162151056777,4.097214744579446,-15.387710682480275,11.065292284976437,-2.1351312827358697,3.455735661531051,-20.621372648404204,1.0530848198132787,-15.767776123610787,-11.839237769978908,4.295486781891654,7.811320587430004,-8.330771921705207,-1.2238516786076872,-9.133096578036273,10.832837753124139,6.636417467874679,5.866336586549863,-11.53318952952091,15.315333981337972,-0.6956201627469767,-1.8520760196944934,5.4100484989933335,-6.3450423748492,-6.517506735237447,-2.8401020661739125,5.244138802248969,-20.246699839821673,18.56094154790378,-0.18576266870724112,-4.4680823746697484,17.760419069487455,-0.698621515266403,-1.4738555948876666,-4.478669761796269,-10.051553925317535,0.6023898421234435,7.204422807560476,0.15112471100734126,12.841675891297754,6.106165385339025,-8.704708189314886,-3.411302287347752,-2.0418781228626273,-3.1414471310181113,9.128836997253345,16.74378426881131,-4.57519979183283,17.39326306756361,8.346037905411535,-4.170704335090576,2.622449423008277,-2.661555030137393,-9.780727660044263,5.524849022230654,3.491485806115847,-1.0298983996376307,-3.85768940968255,10.603928067717504,17.236650738609086,1.814134866754415,4.280662618056169,14.375363035696921,0.6333026897366807,-2.7122927596482214,-10.877776363635256,-10.194787408337007,-16.508526429751797,-3.5045785896837884,8.144068559066397,14.385064786807689,-12.875837194931137,9.797015489433008,21.09855644251482,3.650008936506609,-13.125057714827932,10.933141459310164,10.752121120765295,13.803726741723992,6.197737657491103,5.444328442555374,10.161169995618408,3.6905052912128866,3.068712948272463,11.288127392699934,17.326049167823882,-9.492678601579755,-2.242133944120681,2.1820592948001405,-5.470474484538016,-5.843842854413907,-6.493528910194584,-3.024675785308162,15.373859143957617,-2.1291076308689725,5.671042016245153,9.17272011184886,6.856368320291068,10.290303621232752,-1.9573595811012297,-8.475064933840642,-16.35627658379066,8.428742701388629,0.09450487010938957,19.035184297855707,-2.823136163532375,8.208899651631839,-2.9039381205868864,4.311350780562336,-1.6893160724526126,18.52557129427438,0.25202461056233005,6.816928256739402,1.0711381165740335,3.066713955462916,19.244295025668777,-7.700813097800378,-16.594976108638292,8.126277907799661,-15.714681724399668,-6.084686609940221,-11.838723751951548,-2.576802002598683,2.2378471296444076,-3.5598874743856186,-2.1620749305228344,14.263570635345417,-17.554260699497007,-12.649015983388807,-8.065190810416595,-6.421547862477993,12.125249800064282,8.959261427999621,-5.924106431651808,-12.096242527419832,2.8082230976016973,1.5101341428693331,18.930987490750525,-18.051510329273583,13.356202206452352,-8.048308367900034,17.574863284143802,1.8294268229365969,7.063450437791317,3.6051230040204416,21.638186082572958,2.6750171694186946,8.92883886959791,-18.65385041531367,13.512442402496092,5.9567509801150464,0.9359952088353225,-11.28443687309479,19.103845835270604,3.070828138800323,-10.045598979410016,-0.6247793912284436,-5.0837065050349395,-0.18335471332719067,-4.750381840130558,-10.205488164565523,-0.8611564215197518,-11.141107788992969,-4.709312861116388,1.1277477968517928,1.6356691007385677,-4.61758351564788,-2.3526479947735766,6.335747240994593,15.812530071354978,4.675416318267011,-3.278443040853432,21.795392299058832,-6.962408943266382,3.9797264266260726,0.5063304276420268,11.890611744327693,-0.7374076043754343,2.6092206790098658,-18.67438444358244,4.286258275624249,0.4842840636805761,-3.784948611484751,-5.959903977361506,-21.133036879206983,3.5372752007491783,22.92280645628111,6.5779068977141435,0.6849422724212104,2.769922959599228,-10.057458598677101,11.46436369363559,-8.101157419145949,1.784347731711165,18.588863607311936,3.299821733532781,-8.04163634040168,1.4023671101972184,9.721497085747032,9.192928600113603,-11.47114752102344,-4.5115248194137365,-4.158226792670362,-11.793373495949268,15.644767452737497,-0.3844123405746558,-9.300939352469086,0.9910480511468762,4.938494824787355,-8.990205736948283,6.943690512394049,-7.096257791914077,-1.2974295814679948,3.4948875367145575,1.5877390913841936,4.656747288294625,-2.0289540031285753,-1.2033361386236976,10.248495330700365,12.235122699015903,2.2351001821083116,7.280365658303438,9.884179833981577,3.3354119869454593,3.8934352384447948,4.116248023031034,-10.580124790502794,-22.538680554094796,26.493644553220506,-8.55219455525733,8.03715963655489,0.9385167332428779,-5.6015976632343865,-4.644662132234785,13.90333195712293,-2.05807729377554,-21.79679744128083,6.939211094125014,0.0786680426686246,3.6344555475072013,-1.3629752674233941,4.143952703673023,-6.1468553870128915,-11.960366660844471,6.816211958222546,-12.21664717214162,-0.7166370038037826,1.9858837497732225,-2.421664891023454,10.340345100458563,-13.638045790343895,4.5389744223594874,-9.78434411527688,3.0493911723644374,16.624876149002404,-17.722519437131538,4.709901636432022,1.4233806246048744,2.2918682750375297,14.725270451306827,1.5456367737189964,-3.582413495515709,-27.37383257769588,-7.725053813639647,-11.727006373622345,7.07410655386299,0.2822290592542487,1.9934297936327852,-6.004137206488878,-2.6149706248480555,-9.734984484968578,-12.855279809611787,-11.59648530929779,11.485785122706332,1.280594508437872,-14.158753935397584,8.130281053070632,-6.5661624835785375,12.223586879516006,0.7766306218371568,2.082589584995503,24.063128617626703,-6.309985730472064,8.105196611187068,-13.55350403136562,-16.65433247457574,-16.755102272551845,8.688353945950368,-3.634219476833664,-14.069223872924908,-1.9701264772999423,0.4528483721770016,-7.801240076013585,16.175663943881176,-13.343836200901336,-5.11989350560269,7.834686244645212,11.261856534222858,-3.0765205915967897,-3.845831103942345,-31.738271614583937,-3.774626238335685,0.9176331977909769,7.286964407904833,-3.7090577482107534,2.483569528106827,-1.3609241289035907,7.599992630987529,3.220215372361281,13.730549156989028,22.563925609909717,14.8292100071654,-2.396523254762272,1.8586058491348894,12.672051140448147,1.3621343559178598,10.812908776423896,-11.857327361145906,1.820318060175282,-19.401881621255413,8.616770136097074,-1.7650678086604472,8.12435094998689,1.033640435503898,-3.063334506923198,4.844195220417404,-9.459719737466514,4.302095535353587,11.896160169491807,4.575315223815039,-16.92609017791591,-2.2727631515570152,2.6763705389092394,5.197206397541251,-9.46330057840342,3.7857456212958027,-0.19549856479046923,14.084325592872105,-15.148378070237797,2.07819838790833,5.7819266609336495,2.205130152310346,12.94520568020242,5.836927198558371,2.9819064602077248,3.886730296989498,-6.215299837511026,6.590596820392648,3.9191210070971465,-10.001456484261524,-4.885879986894892,-29.609351799219596,-1.2986099063522403,0.7307350130073118,-8.850230828738063,-14.85411563757927,-22.71452590599911,-17.95950465961404,3.542428797068496,-8.025558944733717,0.8561360577698736,5.924865871547269,16.594221132773754,4.741167448832314,-8.88593323484946,-1.604319493500796,-2.744383453424902,-0.5012596307386161,-11.722529375784347,18.516878543729433,-5.361649167220264,-3.912235168063944,-6.386413611194357,2.5131624793405365,-5.972713452521546,2.0241285954942185,-9.032866524241342,-22.296444686564342,-8.321462077704311,-4.186589378247831,-11.288779887014783,13.76475393708418,2.4423127639441446,9.705536564863422,-15.57603507114544,20.083169661703266,-14.047988992228781,-10.83197833441369,-1.213776252217727,-14.195496616249358,-22.80736675529407,6.502856043303737,10.15132725349656,-19.490701949449445,-19.23150444217727,-3.7601600755323616,0.312455929380576,0.32567922762567036,-5.817916016635579,5.083633759941421,-14.961689069656558,-22.092918224149685,-3.292501307453378,-7.40776905122172,20.191755648389602,0.3036526367085628,-10.05537818257389,-3.2436437524411303,11.007786276959436,24.48432965696226,-4.721191111282224,-20.934603726464374,5.491183617701822,-2.24440583082027,-15.17516585926225,9.588175744152224,7.682866829644382,16.746292380242764,18.112832104970465,21.94589790182266,3.792374821130906,-0.09358572873998128,-2.117338188640275,-14.410333209157088,-3.7097451218609905,-5.887778285195054,-21.330013396378575,11.365690098202222,1.9889805937412603,-15.896563886316017,-13.460145432777963,-3.3436064228063884,11.110417419657423,-5.871887005681572,-1.4844034675596163,17.628229211687966,9.576353477671617,-14.63970533914214,11.358352994053433,16.005627124572342,11.571586797526166,7.7963404722392085,-17.854229536540956,-8.815860462609749,-14.294740778077085,-2.0738938935436977,-7.5374607159129425,3.733374424268092,-1.9973478626453982,-6.266754116927714,-0.5214724063966116,-0.5102262282510139,-8.53235414406248,0.7950800887819014,14.505576636864795,25.190984807857603,16.67364374296173,15.156686195939969,5.786997162317476,-5.443548985357168,0.8913321268590693,20.551824289065124,12.146186079069196,-0.05039324393474942,-25.084176081783824,15.395118795438286,-1.5006934809949826,-2.149781909112562,-2.026331222585924,-8.407355864191018,8.986242563572347,-4.027192220921876,18.418632798649156,-4.0661507823783865,6.989590346027114,-11.595603024437352,-10.889807125265435,2.3345504235320362,-6.553884560294222,9.238446389392635,11.40130401280544,-2.297655547429599,-3.445449876583524,-1.6335041528358403,12.149738885385887,-12.794345757596318,2.4800125671158355,29.875683830490132,-9.402680613340692,6.506057780017471,7.072433555777792,2.602469645586595,1.7791205689732266,13.980069347396139,-20.488039804434592,7.7351641475752615,2.9561378831889087,18.782611613417913,-4.367272542924098,8.722435270214831,-10.66974274738945,17.22374005770253,-8.111884495746395,-5.650879544330223,-6.242852042318205,-12.106235475861084,0.9739510067687434,-15.975225250466124,6.567236573019798,-15.159211040638652,2.766249712452151,13.529792220164879,-6.699773667215041,11.644269175731708,8.723917967748463,22.341199062330418,-18.441431751783398,9.781960409193402,-7.308779780731939,14.610808504706924,-0.902394992719266,2.2231015483630756,1.4914757285667832,-7.966223333551298,-3.4154343370006615,-9.084919178248995,14.920386442501808,-12.999714645916697,-6.792239452893284,0.2954845490557716,7.814107370417261,5.1167498911308655,-8.325279312543927,-1.6556374060602224,-4.320574693888645,-1.696627468409602,-1.0620611319689743,-0.4005326461812757,8.314096386266115,1.6482042674417983,10.31192810112627,0.9845424437836243,-6.046521612206462,7.51659094157651,-0.6371258322388798,-1.1037911798986926,7.151379926663111,-4.27240333830909,1.0129017984140347,13.652488564601924,2.111150788417504,-25.56829179276461,22.171861317609924,-16.083773628548073,8.35374277578947,-2.8223708715571405,-2.329844538958511,5.668819260712738,2.187279193537094,2.2283657795699128,-0.19897225339936142,2.707454100328164,13.385689181383611,7.799161635020965,6.338140784592056,11.990601533746897,3.680900386052855,7.614036596145155,-4.131362994931152,-1.0231611837853478,5.98396472247002,-19.26523865855465,19.63436939237353,0.9046124658101178,-17.049790066591328,7.667722082325241,18.25971959834409,6.0659128938934685,0.19014160250094392,7.427944580141585,18.605335703416536,3.9327929428611412,-10.247571268959135,8.121474261399484,-9.66890208305729,-1.5864791514658094,6.8400541273756374,7.35856307196309,0.4099430622649578,18.918485113485275,-4.892174656697165,9.432210277007272,-5.59491129008515,7.124987913682162,-10.182655948447845,7.494763928605792,12.57907782567925,-3.927911258378707,8.349612755261674,-7.94895528264469,-2.095980161757012,-1.2658802706746002,9.37216876801729,4.15801568286048,-5.769240572958481,7.271602858233848,0.396334754391674,-1.8419960320439515,-23.186662289139846,2.139493107300936,-7.024340256221933,5.9784623317281955,-5.452209488876434,-9.60444197728529,25.66184636551089,4.907294952783857,8.919866402228507,0.42094904354749474,-2.4929828847594564,0.49621192502490885,-7.326084118353343,5.477116712593002,-5.342253500763377,14.186904624031214,-4.737669583840557,-15.938773896210336,-10.402847016916155,-3.3971364815993894,-13.336964497205287,-15.7270230241121,17.773711978044105,-11.209877482222254,-14.132253552746562,-7.298255797285037,-2.057726745111367,5.628157835254569,-6.198712887276429,-3.6531740180649024,-12.271647567700896,-2.8204645992291404,-15.554643757556775,-1.9967757096313932,-7.5020247995323075,-6.705108633606812,-8.475719765024706,0.5393493042929407,9.247680094510315,17.825393110023114,7.513877884833789,-13.185831395930393,3.177705472969464,-8.556567378797382,5.789446241108706,-0.44548478470274233,-7.5511015091665215,-5.1358586191751385,-2.9489587284025163,5.8632658350552305,-13.664827220964554,-0.8361663820194423,-1.5244340629764537,8.344323044243723,7.838804444479052],\"xaxis\":\"x\",\"yaxis\":\"y\",\"type\":\"histogram\"}],                        {\"template\":{\"data\":{\"histogram2dcontour\":[{\"type\":\"histogram2dcontour\",\"colorbar\":{\"outlinewidth\":0,\"ticks\":\"\"},\"colorscale\":[[0.0,\"#0d0887\"],[0.1111111111111111,\"#46039f\"],[0.2222222222222222,\"#7201a8\"],[0.3333333333333333,\"#9c179e\"],[0.4444444444444444,\"#bd3786\"],[0.5555555555555556,\"#d8576b\"],[0.6666666666666666,\"#ed7953\"],[0.7777777777777778,\"#fb9f3a\"],[0.8888888888888888,\"#fdca26\"],[1.0,\"#f0f921\"]]}],\"choropleth\":[{\"type\":\"choropleth\",\"colorbar\":{\"outlinewidth\":0,\"ticks\":\"\"}}],\"histogram2d\":[{\"type\":\"histogram2d\",\"colorbar\":{\"outlinewidth\":0,\"ticks\":\"\"},\"colorscale\":[[0.0,\"#0d0887\"],[0.1111111111111111,\"#46039f\"],[0.2222222222222222,\"#7201a8\"],[0.3333333333333333,\"#9c179e\"],[0.4444444444444444,\"#bd3786\"],[0.5555555555555556,\"#d8576b\"],[0.6666666666666666,\"#ed7953\"],[0.7777777777777778,\"#fb9f3a\"],[0.8888888888888888,\"#fdca26\"],[1.0,\"#f0f921\"]]}],\"heatmap\":[{\"type\":\"heatmap\",\"colorbar\":{\"outlinewidth\":0,\"ticks\":\"\"},\"colorscale\":[[0.0,\"#0d0887\"],[0.1111111111111111,\"#46039f\"],[0.2222222222222222,\"#7201a8\"],[0.3333333333333333,\"#9c179e\"],[0.4444444444444444,\"#bd3786\"],[0.5555555555555556,\"#d8576b\"],[0.6666666666666666,\"#ed7953\"],[0.7777777777777778,\"#fb9f3a\"],[0.8888888888888888,\"#fdca26\"],[1.0,\"#f0f921\"]]}],\"heatmapgl\":[{\"type\":\"heatmapgl\",\"colorbar\":{\"outlinewidth\":0,\"ticks\":\"\"},\"colorscale\":[[0.0,\"#0d0887\"],[0.1111111111111111,\"#46039f\"],[0.2222222222222222,\"#7201a8\"],[0.3333333333333333,\"#9c179e\"],[0.4444444444444444,\"#bd3786\"],[0.5555555555555556,\"#d8576b\"],[0.6666666666666666,\"#ed7953\"],[0.7777777777777778,\"#fb9f3a\"],[0.8888888888888888,\"#fdca26\"],[1.0,\"#f0f921\"]]}],\"contourcarpet\":[{\"type\":\"contourcarpet\",\"colorbar\":{\"outlinewidth\":0,\"ticks\":\"\"}}],\"contour\":[{\"type\":\"contour\",\"colorbar\":{\"outlinewidth\":0,\"ticks\":\"\"},\"colorscale\":[[0.0,\"#0d0887\"],[0.1111111111111111,\"#46039f\"],[0.2222222222222222,\"#7201a8\"],[0.3333333333333333,\"#9c179e\"],[0.4444444444444444,\"#bd3786\"],[0.5555555555555556,\"#d8576b\"],[0.6666666666666666,\"#ed7953\"],[0.7777777777777778,\"#fb9f3a\"],[0.8888888888888888,\"#fdca26\"],[1.0,\"#f0f921\"]]}],\"surface\":[{\"type\":\"surface\",\"colorbar\":{\"outlinewidth\":0,\"ticks\":\"\"},\"colorscale\":[[0.0,\"#0d0887\"],[0.1111111111111111,\"#46039f\"],[0.2222222222222222,\"#7201a8\"],[0.3333333333333333,\"#9c179e\"],[0.4444444444444444,\"#bd3786\"],[0.5555555555555556,\"#d8576b\"],[0.6666666666666666,\"#ed7953\"],[0.7777777777777778,\"#fb9f3a\"],[0.8888888888888888,\"#fdca26\"],[1.0,\"#f0f921\"]]}],\"mesh3d\":[{\"type\":\"mesh3d\",\"colorbar\":{\"outlinewidth\":0,\"ticks\":\"\"}}],\"scatter\":[{\"fillpattern\":{\"fillmode\":\"overlay\",\"size\":10,\"solidity\":0.2},\"type\":\"scatter\"}],\"parcoords\":[{\"type\":\"parcoords\",\"line\":{\"colorbar\":{\"outlinewidth\":0,\"ticks\":\"\"}}}],\"scatterpolargl\":[{\"type\":\"scatterpolargl\",\"marker\":{\"colorbar\":{\"outlinewidth\":0,\"ticks\":\"\"}}}],\"bar\":[{\"error_x\":{\"color\":\"#2a3f5f\"},\"error_y\":{\"color\":\"#2a3f5f\"},\"marker\":{\"line\":{\"color\":\"#E5ECF6\",\"width\":0.5},\"pattern\":{\"fillmode\":\"overlay\",\"size\":10,\"solidity\":0.2}},\"type\":\"bar\"}],\"scattergeo\":[{\"type\":\"scattergeo\",\"marker\":{\"colorbar\":{\"outlinewidth\":0,\"ticks\":\"\"}}}],\"scatterpolar\":[{\"type\":\"scatterpolar\",\"marker\":{\"colorbar\":{\"outlinewidth\":0,\"ticks\":\"\"}}}],\"histogram\":[{\"marker\":{\"pattern\":{\"fillmode\":\"overlay\",\"size\":10,\"solidity\":0.2}},\"type\":\"histogram\"}],\"scattergl\":[{\"type\":\"scattergl\",\"marker\":{\"colorbar\":{\"outlinewidth\":0,\"ticks\":\"\"}}}],\"scatter3d\":[{\"type\":\"scatter3d\",\"line\":{\"colorbar\":{\"outlinewidth\":0,\"ticks\":\"\"}},\"marker\":{\"colorbar\":{\"outlinewidth\":0,\"ticks\":\"\"}}}],\"scattermapbox\":[{\"type\":\"scattermapbox\",\"marker\":{\"colorbar\":{\"outlinewidth\":0,\"ticks\":\"\"}}}],\"scatterternary\":[{\"type\":\"scatterternary\",\"marker\":{\"colorbar\":{\"outlinewidth\":0,\"ticks\":\"\"}}}],\"scattercarpet\":[{\"type\":\"scattercarpet\",\"marker\":{\"colorbar\":{\"outlinewidth\":0,\"ticks\":\"\"}}}],\"carpet\":[{\"aaxis\":{\"endlinecolor\":\"#2a3f5f\",\"gridcolor\":\"white\",\"linecolor\":\"white\",\"minorgridcolor\":\"white\",\"startlinecolor\":\"#2a3f5f\"},\"baxis\":{\"endlinecolor\":\"#2a3f5f\",\"gridcolor\":\"white\",\"linecolor\":\"white\",\"minorgridcolor\":\"white\",\"startlinecolor\":\"#2a3f5f\"},\"type\":\"carpet\"}],\"table\":[{\"cells\":{\"fill\":{\"color\":\"#EBF0F8\"},\"line\":{\"color\":\"white\"}},\"header\":{\"fill\":{\"color\":\"#C8D4E3\"},\"line\":{\"color\":\"white\"}},\"type\":\"table\"}],\"barpolar\":[{\"marker\":{\"line\":{\"color\":\"#E5ECF6\",\"width\":0.5},\"pattern\":{\"fillmode\":\"overlay\",\"size\":10,\"solidity\":0.2}},\"type\":\"barpolar\"}],\"pie\":[{\"automargin\":true,\"type\":\"pie\"}]},\"layout\":{\"autotypenumbers\":\"strict\",\"colorway\":[\"#636efa\",\"#EF553B\",\"#00cc96\",\"#ab63fa\",\"#FFA15A\",\"#19d3f3\",\"#FF6692\",\"#B6E880\",\"#FF97FF\",\"#FECB52\"],\"font\":{\"color\":\"#2a3f5f\"},\"hovermode\":\"closest\",\"hoverlabel\":{\"align\":\"left\"},\"paper_bgcolor\":\"white\",\"plot_bgcolor\":\"#E5ECF6\",\"polar\":{\"bgcolor\":\"#E5ECF6\",\"angularaxis\":{\"gridcolor\":\"white\",\"linecolor\":\"white\",\"ticks\":\"\"},\"radialaxis\":{\"gridcolor\":\"white\",\"linecolor\":\"white\",\"ticks\":\"\"}},\"ternary\":{\"bgcolor\":\"#E5ECF6\",\"aaxis\":{\"gridcolor\":\"white\",\"linecolor\":\"white\",\"ticks\":\"\"},\"baxis\":{\"gridcolor\":\"white\",\"linecolor\":\"white\",\"ticks\":\"\"},\"caxis\":{\"gridcolor\":\"white\",\"linecolor\":\"white\",\"ticks\":\"\"}},\"coloraxis\":{\"colorbar\":{\"outlinewidth\":0,\"ticks\":\"\"}},\"colorscale\":{\"sequential\":[[0.0,\"#0d0887\"],[0.1111111111111111,\"#46039f\"],[0.2222222222222222,\"#7201a8\"],[0.3333333333333333,\"#9c179e\"],[0.4444444444444444,\"#bd3786\"],[0.5555555555555556,\"#d8576b\"],[0.6666666666666666,\"#ed7953\"],[0.7777777777777778,\"#fb9f3a\"],[0.8888888888888888,\"#fdca26\"],[1.0,\"#f0f921\"]],\"sequentialminus\":[[0.0,\"#0d0887\"],[0.1111111111111111,\"#46039f\"],[0.2222222222222222,\"#7201a8\"],[0.3333333333333333,\"#9c179e\"],[0.4444444444444444,\"#bd3786\"],[0.5555555555555556,\"#d8576b\"],[0.6666666666666666,\"#ed7953\"],[0.7777777777777778,\"#fb9f3a\"],[0.8888888888888888,\"#fdca26\"],[1.0,\"#f0f921\"]],\"diverging\":[[0,\"#8e0152\"],[0.1,\"#c51b7d\"],[0.2,\"#de77ae\"],[0.3,\"#f1b6da\"],[0.4,\"#fde0ef\"],[0.5,\"#f7f7f7\"],[0.6,\"#e6f5d0\"],[0.7,\"#b8e186\"],[0.8,\"#7fbc41\"],[0.9,\"#4d9221\"],[1,\"#276419\"]]},\"xaxis\":{\"gridcolor\":\"white\",\"linecolor\":\"white\",\"ticks\":\"\",\"title\":{\"standoff\":15},\"zerolinecolor\":\"white\",\"automargin\":true,\"zerolinewidth\":2},\"yaxis\":{\"gridcolor\":\"white\",\"linecolor\":\"white\",\"ticks\":\"\",\"title\":{\"standoff\":15},\"zerolinecolor\":\"white\",\"automargin\":true,\"zerolinewidth\":2},\"scene\":{\"xaxis\":{\"backgroundcolor\":\"#E5ECF6\",\"gridcolor\":\"white\",\"linecolor\":\"white\",\"showbackground\":true,\"ticks\":\"\",\"zerolinecolor\":\"white\",\"gridwidth\":2},\"yaxis\":{\"backgroundcolor\":\"#E5ECF6\",\"gridcolor\":\"white\",\"linecolor\":\"white\",\"showbackground\":true,\"ticks\":\"\",\"zerolinecolor\":\"white\",\"gridwidth\":2},\"zaxis\":{\"backgroundcolor\":\"#E5ECF6\",\"gridcolor\":\"white\",\"linecolor\":\"white\",\"showbackground\":true,\"ticks\":\"\",\"zerolinecolor\":\"white\",\"gridwidth\":2}},\"shapedefaults\":{\"line\":{\"color\":\"#2a3f5f\"}},\"annotationdefaults\":{\"arrowcolor\":\"#2a3f5f\",\"arrowhead\":0,\"arrowwidth\":1},\"geo\":{\"bgcolor\":\"white\",\"landcolor\":\"#E5ECF6\",\"subunitcolor\":\"white\",\"showland\":true,\"showlakes\":true,\"lakecolor\":\"white\"},\"title\":{\"x\":0.05},\"mapbox\":{\"style\":\"light\"}}},\"xaxis\":{\"anchor\":\"y\",\"domain\":[0.0,1.0],\"title\":{\"text\":\"error\"}},\"yaxis\":{\"anchor\":\"x\",\"domain\":[0.0,1.0],\"title\":{\"text\":\"count\"}},\"legend\":{\"tracegroupgap\":0},\"margin\":{\"t\":60},\"barmode\":\"relative\",\"width\":800},                        {\"responsive\": true}                    ).then(function(){\n",
              "                            \n",
              "var gd = document.getElementById('8fb07d89-1390-4913-9bb8-6d38b10882fe');\n",
              "var x = new MutationObserver(function (mutations, observer) {{\n",
              "        var display = window.getComputedStyle(gd).display;\n",
              "        if (!display || display === 'none') {{\n",
              "            console.log([gd, 'removed!']);\n",
              "            Plotly.purge(gd);\n",
              "            observer.disconnect();\n",
              "        }}\n",
              "}});\n",
              "\n",
              "// Listen for the removal of the full notebook cells\n",
              "var notebookContainer = gd.closest('#notebook-container');\n",
              "if (notebookContainer) {{\n",
              "    x.observe(notebookContainer, {childList: true});\n",
              "}}\n",
              "\n",
              "// Listen for the clearing of the current output cell\n",
              "var outputEl = gd.closest('.output');\n",
              "if (outputEl) {{\n",
              "    x.observe(outputEl, {childList: true});\n",
              "}}\n",
              "\n",
              "                        })                };                            </script>        </div>\n",
              "</body>\n",
              "</html>"
            ]
          },
          "metadata": {}
        }
      ]
    },
    {
      "cell_type": "markdown",
      "source": [
        "### <a name='a3'></a> Mean Absolute Error - Średni błąd bezwzględny\n",
        "### $$MAE = \\frac{1}{n}\\sum_{i=1}^{n}|y_{true} - y_{pred}|$$"
      ],
      "metadata": {
        "id": "S7KdmqBiP065"
      }
    },
    {
      "cell_type": "code",
      "source": [
        "def mean_absolute_error(y_true, y_pred):\n",
        "  return abs(y_true - y_pred).sum() / len(y_true)\n",
        "\n",
        "mean_absolute_error(y_true, y_pred)"
      ],
      "metadata": {
        "colab": {
          "base_uri": "https://localhost:8080/"
        },
        "id": "Oj5gUDE9jN_R",
        "outputId": "ce1081cd-6719-4fa4-ffba-ae86b53c4cea"
      },
      "execution_count": 13,
      "outputs": [
        {
          "output_type": "execute_result",
          "data": {
            "text/plain": [
              "8.084340877284774"
            ]
          },
          "metadata": {},
          "execution_count": 13
        }
      ]
    },
    {
      "cell_type": "code",
      "source": [
        "from sklearn.metrics import mean_absolute_error\n",
        "\n",
        "mean_absolute_error(y_true, y_pred)"
      ],
      "metadata": {
        "colab": {
          "base_uri": "https://localhost:8080/"
        },
        "id": "ER6cZLJLkHAu",
        "outputId": "1bfb5635-66e3-489b-d05a-78e8fbf942d3"
      },
      "execution_count": 14,
      "outputs": [
        {
          "output_type": "execute_result",
          "data": {
            "text/plain": [
              "8.084340877284774"
            ]
          },
          "metadata": {},
          "execution_count": 14
        }
      ]
    },
    {
      "cell_type": "markdown",
      "source": [
        "### <a name='a4'></a> Mean Squared Error - MSE - Błąd średniokwadratowy\n",
        "### $$MSE = \\frac{1}{n}\\sum_{i=1}^{n}(y_{true} - y_{pred})^{2}$$"
      ],
      "metadata": {
        "id": "emuaIWNfP4Xl"
      }
    },
    {
      "cell_type": "code",
      "source": [
        "def mean_squared_error(y_true, y_pred):\n",
        "  return ((y_true - y_pred) ** 2).sum() / len(y_true)\n",
        "\n",
        "mean_squared_error(y_true, y_pred)"
      ],
      "metadata": {
        "colab": {
          "base_uri": "https://localhost:8080/"
        },
        "id": "Y8qslor6ktK4",
        "outputId": "a6069280-23bc-4cab-8788-8df7cff9335e"
      },
      "execution_count": 15,
      "outputs": [
        {
          "output_type": "execute_result",
          "data": {
            "text/plain": [
              "104.43492401829074"
            ]
          },
          "metadata": {},
          "execution_count": 15
        }
      ]
    },
    {
      "cell_type": "code",
      "source": [
        "from sklearn.metrics import mean_squared_error\n",
        "\n",
        "mean_squared_error(y_true, y_pred)"
      ],
      "metadata": {
        "colab": {
          "base_uri": "https://localhost:8080/"
        },
        "id": "AV1Hl0MMktUf",
        "outputId": "440b68a5-4170-4bbc-987c-7ef6d8cad6a0"
      },
      "execution_count": 16,
      "outputs": [
        {
          "output_type": "execute_result",
          "data": {
            "text/plain": [
              "104.43492401829074"
            ]
          },
          "metadata": {},
          "execution_count": 16
        }
      ]
    },
    {
      "cell_type": "markdown",
      "source": [
        "### <a name='a5'></a> Root Mean Squared Error - RMSE - Pierwiastek błędu średniokwadratowego\n",
        "### $$RMSE = \\sqrt{MSE}$$"
      ],
      "metadata": {
        "id": "m_CrXTCTP9fh"
      }
    },
    {
      "cell_type": "code",
      "source": [
        "def root_mean_squared_error(y_true, y_pred):\n",
        "  return np.sqrt(((y_true - y_pred) ** 2).sum() / len(y_true))\n",
        "\n",
        "root_mean_squared_error(y_true, y_pred)"
      ],
      "metadata": {
        "colab": {
          "base_uri": "https://localhost:8080/"
        },
        "id": "Y36S91JvlPAZ",
        "outputId": "93921cfa-3053-46ed-e7e7-9f7204167c1a"
      },
      "execution_count": 17,
      "outputs": [
        {
          "output_type": "execute_result",
          "data": {
            "text/plain": [
              "10.219340684128833"
            ]
          },
          "metadata": {},
          "execution_count": 17
        }
      ]
    },
    {
      "cell_type": "code",
      "source": [
        "np.sqrt(mean_squared_error(y_true, y_pred))"
      ],
      "metadata": {
        "colab": {
          "base_uri": "https://localhost:8080/"
        },
        "id": "iP_gwY8TlPHn",
        "outputId": "d0f7bb00-0a55-44b3-f119-9f1efb4ab9c1"
      },
      "execution_count": 18,
      "outputs": [
        {
          "output_type": "execute_result",
          "data": {
            "text/plain": [
              "10.219340684128833"
            ]
          },
          "metadata": {},
          "execution_count": 18
        }
      ]
    },
    {
      "cell_type": "markdown",
      "source": [
        "### <a name='a6'></a>  Max Error - Błąd maksymalny\n",
        "\n",
        "$$ME = max(|y\\_true - y\\_pred|)$$"
      ],
      "metadata": {
        "id": "4VXCTZwmQEcZ"
      }
    },
    {
      "cell_type": "code",
      "source": [
        "def max_error(y_true, y_pred):\n",
        "  return abs(y_true - y_pred).max()"
      ],
      "metadata": {
        "id": "WXLrLZLKl4hp"
      },
      "execution_count": 20,
      "outputs": []
    },
    {
      "cell_type": "code",
      "source": [
        "max_error(y_true, y_pred)"
      ],
      "metadata": {
        "colab": {
          "base_uri": "https://localhost:8080/"
        },
        "id": "5U9ycW2KmBt7",
        "outputId": "302dc419-64ed-443a-df26-177c5031dca4"
      },
      "execution_count": 21,
      "outputs": [
        {
          "output_type": "execute_result",
          "data": {
            "text/plain": [
              "33.64923716993046"
            ]
          },
          "metadata": {},
          "execution_count": 21
        }
      ]
    },
    {
      "cell_type": "code",
      "source": [
        "from sklearn.metrics import max_error\n",
        "\n",
        "max_error(y_true, y_pred)"
      ],
      "metadata": {
        "colab": {
          "base_uri": "https://localhost:8080/"
        },
        "id": "rmTNlXtjmGqb",
        "outputId": "3c26fdae-dcc9-4b7b-d93d-61c5b262fbed"
      },
      "execution_count": 22,
      "outputs": [
        {
          "output_type": "execute_result",
          "data": {
            "text/plain": [
              "33.64923716993046"
            ]
          },
          "metadata": {},
          "execution_count": 22
        }
      ]
    },
    {
      "cell_type": "markdown",
      "source": [
        "### <a name='a7'></a>  R2 score - współczynnik determinacji\n",
        "### $$R2\\_score = 1 - \\frac{\\sum_{i=1}^{N}(y_{true} - y_{pred})^{2}}{\\sum_{i=1}^{N}(y_{true} - \\overline{y_{true}})^{2}}$$"
      ],
      "metadata": {
        "id": "ZKZvGinQQC_p"
      }
    },
    {
      "cell_type": "code",
      "source": [
        "from sklearn.metrics import r2_score\n",
        "\n",
        "r2_score(y_true, y_pred)"
      ],
      "metadata": {
        "colab": {
          "base_uri": "https://localhost:8080/"
        },
        "id": "znx3ynsumbNh",
        "outputId": "1102263b-af17-4662-b892-005993438787"
      },
      "execution_count": 23,
      "outputs": [
        {
          "output_type": "execute_result",
          "data": {
            "text/plain": [
              "0.7369592467802477"
            ]
          },
          "metadata": {},
          "execution_count": 23
        }
      ]
    },
    {
      "cell_type": "code",
      "source": [
        "def r2_score(y_true, y_pred):\n",
        "  numerator = ((y_true - y_pred) ** 2).sum()\n",
        "  denominator = ((y_true - y_true.mean()) ** 2).sum()\n",
        "  try:\n",
        "    r2 = 1 - numerator / denominator\n",
        "  except ZeroDivisionError:\n",
        "    r2 = 0\n",
        "  return r2"
      ],
      "metadata": {
        "id": "5kNc5AOtmbVM"
      },
      "execution_count": 26,
      "outputs": []
    },
    {
      "cell_type": "code",
      "source": [
        "r2_score(y_true, y_pred)"
      ],
      "metadata": {
        "colab": {
          "base_uri": "https://localhost:8080/"
        },
        "id": "8ydzjEXNnL-e",
        "outputId": "621d0523-63b7-40e6-9bce-310b14fe0492"
      },
      "execution_count": 27,
      "outputs": [
        {
          "output_type": "execute_result",
          "data": {
            "text/plain": [
              "0.7369592467802477"
            ]
          },
          "metadata": {},
          "execution_count": 27
        }
      ]
    }
  ]
}